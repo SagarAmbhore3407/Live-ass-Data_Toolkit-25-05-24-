{
 "cells": [
  {
   "cell_type": "markdown",
   "id": "bf3345d0-94af-4dbd-a793-c15b1416aeca",
   "metadata": {},
   "source": [
    "Live Assignment:  Data Toolkit\n"
   ]
  },
  {
   "cell_type": "code",
   "execution_count": 4,
   "id": "4ab3f1a2-77ed-4e09-81b4-9ebaaa98b59f",
   "metadata": {},
   "outputs": [],
   "source": [
    "\n",
    "# Data Set  :   https://drive.google.com/file/d/13x8f8HNKieSRAzxTIzAojaYp8Up8cefk/view?usp=sharing"
   ]
  },
  {
   "cell_type": "code",
   "execution_count": null,
   "id": "d8265b87-4628-45a5-9c12-ef0b17c3a2ce",
   "metadata": {},
   "outputs": [],
   "source": []
  },
  {
   "cell_type": "code",
   "execution_count": 5,
   "id": "1b8ec421-e9b9-4c7d-bd2f-1ab42d928709",
   "metadata": {},
   "outputs": [
    {
     "name": "stdout",
     "output_type": "stream",
     "text": [
      "Method 1: Using numpy.zeros()\n",
      "[[0 0 0]\n",
      " [0 0 0]\n",
      " [0 0 0]] \n",
      "\n",
      "\n",
      "Method 2: Using numpy.ones()\n",
      "[[1 1 1]\n",
      " [1 1 1]\n",
      " [1 1 1]] \n",
      "\n",
      "\n",
      "Method 3: Using numpy.full()\n",
      "[[5 5 5]\n",
      " [5 5 5]\n",
      " [5 5 5]]\n"
     ]
    }
   ],
   "source": [
    "# 1. Demonstrate three different methods for creating identical 2D arrays in NumPy. Provide the code for each \n",
    "#    method and the final output after each method\n",
    "\n",
    "\n",
    "\n",
    "import numpy as np\n",
    "\n",
    "# method 1. - Using numpy.zeros\n",
    "array1 = np.zeros((3,3),dtype=int)\n",
    "print(\"Method 1: Using numpy.zeros()\")\n",
    "print(array1,\"\\n\")\n",
    "\n",
    "\n",
    "# method 2. - Using numpy.ones\n",
    "array2 = np.ones((3,3),dtype=int)\n",
    "print(\"\\nMethod 2: Using numpy.ones()\")\n",
    "print(array2,\"\\n\")\n",
    "\n",
    "# method 3. - Using numpy.full\n",
    "array3 = np.full((3,3),5,dtype=int)\n",
    "print(\"\\nMethod 3: Using numpy.full()\")\n",
    "print(array3,)"
   ]
  },
  {
   "cell_type": "code",
   "execution_count": 6,
   "id": "5721bae8-0d65-4e41-8a2e-ba0a7df8941c",
   "metadata": {},
   "outputs": [
    {
     "name": "stdout",
     "output_type": "stream",
     "text": [
      "[[ 1.          1.09090909  1.18181818  1.27272727  1.36363636  1.45454545\n",
      "   1.54545455  1.63636364  1.72727273  1.81818182]\n",
      " [ 1.90909091  2.          2.09090909  2.18181818  2.27272727  2.36363636\n",
      "   2.45454545  2.54545455  2.63636364  2.72727273]\n",
      " [ 2.81818182  2.90909091  3.          3.09090909  3.18181818  3.27272727\n",
      "   3.36363636  3.45454545  3.54545455  3.63636364]\n",
      " [ 3.72727273  3.81818182  3.90909091  4.          4.09090909  4.18181818\n",
      "   4.27272727  4.36363636  4.45454545  4.54545455]\n",
      " [ 4.63636364  4.72727273  4.81818182  4.90909091  5.          5.09090909\n",
      "   5.18181818  5.27272727  5.36363636  5.45454545]\n",
      " [ 5.54545455  5.63636364  5.72727273  5.81818182  5.90909091  6.\n",
      "   6.09090909  6.18181818  6.27272727  6.36363636]\n",
      " [ 6.45454545  6.54545455  6.63636364  6.72727273  6.81818182  6.90909091\n",
      "   7.          7.09090909  7.18181818  7.27272727]\n",
      " [ 7.36363636  7.45454545  7.54545455  7.63636364  7.72727273  7.81818182\n",
      "   7.90909091  8.          8.09090909  8.18181818]\n",
      " [ 8.27272727  8.36363636  8.45454545  8.54545455  8.63636364  8.72727273\n",
      "   8.81818182  8.90909091  9.          9.09090909]\n",
      " [ 9.18181818  9.27272727  9.36363636  9.45454545  9.54545455  9.63636364\n",
      "   9.72727273  9.81818182  9.90909091 10.        ]]\n"
     ]
    }
   ],
   "source": [
    "\n",
    "# 2. Using the Numpy function, generate an array of 100 evenly spaced numbers between 1 and 10 and \n",
    "#    Reshape that 1D array into a 2D array.\n",
    "\n",
    "\n",
    "\n",
    "\n",
    "\n",
    "import numpy as np\n",
    "\n",
    "\n",
    "array_1d = np.linspace(1, 10, 100)\n",
    "\n",
    "\n",
    "array_2d = array_1d.reshape((10, 10))\n",
    "\n",
    "print(array_2d)\n",
    "\n"
   ]
  },
  {
   "cell_type": "code",
   "execution_count": 7,
   "id": "c0947d60-829d-492f-87be-70f4773e12d9",
   "metadata": {},
   "outputs": [
    {
     "name": "stdout",
     "output_type": "stream",
     "text": [
      "Output of Question no. 1.:-\n",
      "\n",
      "Eg.of the np.array : \n",
      "[1, 2, 3]\n",
      "[1 2 3]\n",
      "[1 2 3] \n",
      "\n",
      "\n",
      "Eg.of the np.asarray : \n",
      "[1, 2, 3]\n",
      "[1 2 3]\n",
      "[1 2 3] \n",
      "\n",
      "\n",
      "Eg.of the np.asarray : \n",
      "[1, 2, 3]\n",
      "[1 2 3]\n",
      "[1 2 3]\n",
      "[[1 2 3]]\n",
      "[[1 2 3]] \n",
      "---------------------------------------------------------------------------------------------\n",
      "\n",
      "\n",
      "Output of Question no. 2.:-\n",
      "\n",
      "Eg.of the Shallow copy : \n",
      "original_list :  [1, 2, ['a', 4]]\n",
      "shallow_copied_list :  [1, 2, ['a', 4]] \n",
      "\n",
      "\n",
      "Eg.of the Deep copy : \n",
      "original_list :  [1, 2, [3, 4]]\n",
      "Deep_copied_list :  [1, 2, ['a', 4]] \n",
      "\n",
      "\n"
     ]
    }
   ],
   "source": [
    "\n",
    "# 3. Explain the following terms:\n",
    "\n",
    "#  a. The difference in np.array, np.asarray and np.asanyarray.\n",
    "#  b. The difference between Deep copy and shallow copy.\n",
    "\n",
    "\n",
    "\n",
    "#  a. The difference in np.array, np.asarray and np.asanyarray\n",
    "\n",
    "\n",
    "'''\n",
    "    np.array : \n",
    "        - It is use to create the new numpy array.\n",
    "        - It should be used  when you explicitly need a new array, and you want to ensure you have a NumPy array \n",
    "          regardless of the input type.\n",
    "        - So , it always return new array. even if the input is already a Numpy array. and it can create array with specified\n",
    "          'dtype' and 'order'.\n",
    "        - it does not preserve subclasses\n",
    "'''\n",
    "\n",
    "import numpy as np\n",
    "a = [1, 2, 3]\n",
    "b = np.array(a)\n",
    "c = np.array(b)  # Creates a new array, b is copied\n",
    "\n",
    "print(\"Output of Question no. 1.:-\\n\")\n",
    "print(\"Eg.of the np.array : \")\n",
    "print(a)\n",
    "print(b)\n",
    "print(c,\"\\n\\n\")\n",
    "\n",
    "#------------------------------------------------------------------------------------------------------------------------------------------\n",
    "\n",
    "'''\n",
    "    np.asarray :\n",
    "        - It is used to convert the input to numpy array if its not already an array.\n",
    "        - It should be used when you need to ensure you have a NumPy array, but you don't want to copy the data \n",
    "          if the input is already an array.\n",
    "        - So, It Returns the input itself if it's already a NumPy array with the same dtype and order. \n",
    "          Otherwise, it creates a new array.\n",
    "        - it does not preserve subclasses.  \n",
    "'''\n",
    "\n",
    "\n",
    "d = [1, 2, 3]\n",
    "e = np.asarray(d)\n",
    "f = np.asarray(e)  # No copy is made, c is b\n",
    "\n",
    "print(\"Eg.of the np.asarray : \")\n",
    "print(d)\n",
    "print(e)\n",
    "print(f,\"\\n\\n\")\n",
    "\n",
    "\n",
    "#------------------------------------------------------------------------------------------------------------------------------------------\n",
    "\n",
    "'''\n",
    "    np.asanyarray :\n",
    "        - Used to converts the input to a NumPy array (or a subclass of it) if it's not already an array.\n",
    "        - It should be used when you need to ensure you have an array or an array subclass, preserving any subclass types.\n",
    "        - So, Returns the input itself if it's already a NumPy array or a subclass of it (e.g., a matrix). Otherwise,\n",
    "          it creates a new array.\n",
    "        - It preserves subclasses of ndarray (e.g., matrix).\n",
    "\n",
    "          \n",
    "'''\n",
    "\n",
    "\n",
    "g = [1, 2, 3]\n",
    "h = np.asanyarray(g)\n",
    "i = np.asanyarray(h)  # No copy is made, c is b\n",
    "j = np.matrix(g)\n",
    "k = np.asanyarray(j)  # e is a matrix, not an ndarray\n",
    "\n",
    "print(\"Eg.of the np.asarray : \")\n",
    "print(g)\n",
    "print(h)\n",
    "print(i)\n",
    "print(j)\n",
    "print(k,\"\\n---------------------------------------------------------------------------------------------\\n\\n\")\n",
    "\n",
    "\n",
    "#=================================================================================================================================================\n",
    "\n",
    "\n",
    "#  b. The difference between Deep copy and shallow copy.\n",
    "\n",
    "'''\n",
    "    Shallow Copy:\n",
    "        - A shallow copy of an object is a new object that is a partial duplicate of the original.\n",
    "        - In shallow copy it creates the new collection object which helps to reference addressed to the original object.\n",
    "        - suppose we create a variable which stores the list. and again we create a new var and asa value we assigne previous \n",
    "          var which of list. So any chanmges made in new variable will directly affect the values of previous original variable.\n",
    "          and this method ios called as the alising method.\n",
    "        - In shallow copy the memory location of both variable data values is same.\n",
    "        \n",
    "'''\n",
    "\n",
    "import copy\n",
    "\n",
    "original_list = [1, 2, [3, 4]]\n",
    "shallow_copied_list = copy.copy(original_list)\n",
    "\n",
    "# Modify the nested list in the shallow copy\n",
    "shallow_copied_list[2][0] = 'a'\n",
    "\n",
    "print(\"Output of Question no. 2.:-\\n\")\n",
    "print(\"Eg.of the Shallow copy : \")\n",
    "print(\"original_list : \",original_list)        \n",
    "print(\"shallow_copied_list : \",shallow_copied_list,\"\\n\\n\")  \n",
    "\n",
    "\n",
    "#------------------------------------------------------------------------------------------------------------------------------------------\n",
    " \n",
    "'''\n",
    "    Deep Copy:\n",
    "        - A deep copy of an object is a new object that is a complete duplicate of the original. \n",
    "        - All elements within the new object are also copies of the elements within the original object.\n",
    "          Therefore, changes to any of the elements within the new object do not affect the original object.\n",
    "        - Deep Copy is also known as safe copy.\n",
    "        - Here the address of the valiable data values are different.\n",
    "'''\n",
    "\n",
    "\n",
    "\n",
    "original_list = [1, 2, [3, 4]]\n",
    "deep_copied_list = copy.deepcopy(original_list)\n",
    "\n",
    "# Modify the nested list in the deep copy\n",
    "deep_copied_list[2][0] = 'a'\n",
    "\n",
    "print(\"Eg.of the Deep copy : \")\n",
    "print(\"original_list : \",original_list)        \n",
    "print(\"Deep_copied_list : \",deep_copied_list,\"\\n\\n\")  \n",
    "\n",
    "\n"
   ]
  },
  {
   "cell_type": "code",
   "execution_count": 8,
   "id": "8bb4f647-dc63-490b-abbb-3349cacd5e4f",
   "metadata": {},
   "outputs": [
    {
     "name": "stdout",
     "output_type": "stream",
     "text": [
      "Original array:\n",
      "[[18.30670479 17.84704114  5.98712736]\n",
      " [ 7.41548273  8.62964476 18.47257958]\n",
      " [ 8.06833199  9.31651553  6.48396337]]\n",
      "\n",
      "Rounded array:\n",
      "[[18.31 17.85  5.99]\n",
      " [ 7.42  8.63 18.47]\n",
      " [ 8.07  9.32  6.48]]\n"
     ]
    }
   ],
   "source": [
    "\n",
    "# 4. Generate a 3x3 array with random floating-point numbers between 5 and 20. Then, round each number in \n",
    "#    the array to 2 decimal places.\n",
    "\n",
    "\n",
    "import numpy as np\n",
    "\n",
    "\n",
    "random_array = np.random.uniform(5, 20, (3, 3))\n",
    "rounded_array = np.round(random_array, 2)\n",
    "\n",
    "print(\"Original array:\")\n",
    "print(random_array)\n",
    "print(\"\\nRounded array:\")\n",
    "print(rounded_array)\n",
    "\n"
   ]
  },
  {
   "cell_type": "code",
   "execution_count": 9,
   "id": "b68cc499-4ad5-4115-9158-b8412990447e",
   "metadata": {},
   "outputs": [
    {
     "name": "stdout",
     "output_type": "stream",
     "text": [
      "Original array:\n",
      "[[ 3  6  6  3  8  3]\n",
      " [ 2 10  3  5 10  6]\n",
      " [ 3  5  7  5  4  1]\n",
      " [ 2 10  8 10 10  5]\n",
      " [10  7  4  4  3 10]] \n",
      "\n",
      "\n",
      "\n",
      "Even numbers from the array:\n",
      "[ 6  6  8  2 10 10  6  4  2 10  8 10 10 10  4  4 10]\n",
      "\n",
      "Odd numbers from the array:\n",
      "[3 3 3 3 5 3 5 7 5 1 5 7 3]\n"
     ]
    }
   ],
   "source": [
    "\n",
    "# 5. Create a NumPy array with random integers between 1 and 10 of shape (5, 6). After creating the array \n",
    "#    perform the following operations:\n",
    "#    a)Extract all even integers from array.\n",
    "#    b)Extract all odd integers from array\n",
    "\n",
    "\n",
    "# Creating the numpy array  with random array betn 1 to 10.\n",
    "\n",
    "import numpy as np\n",
    "array = np.random.randint(1, 11, size=(5, 6))\n",
    "\n",
    "print(\"Original array:\")\n",
    "print(array,\"\\n\\n\")\n",
    "\n",
    "\n",
    "\n",
    "# a) Extract all even integers from the array\n",
    "even_numbers = array[array % 2 == 0]\n",
    "\n",
    "print(\"\\nEven numbers from the array:\")\n",
    "print(even_numbers)\n",
    "\n",
    "\n",
    "\n",
    "# b) Extract all odd integers from the array\n",
    "odd_numbers = array[array % 2 != 0]\n",
    "\n",
    "print(\"\\nOdd numbers from the array:\")\n",
    "print(odd_numbers)"
   ]
  },
  {
   "cell_type": "code",
   "execution_count": 10,
   "id": "d5be1df1-6504-42da-81cf-8eaa20fcab5d",
   "metadata": {},
   "outputs": [
    {
     "name": "stdout",
     "output_type": "stream",
     "text": [
      "Original 3D array:\n",
      "[[[ 3  6 10]\n",
      "  [ 7  5 10]\n",
      "  [ 2  6 10]]\n",
      "\n",
      " [[ 5  4  3]\n",
      "  [ 2  5  3]\n",
      "  [ 6  4  9]]\n",
      "\n",
      " [[ 4  1 10]\n",
      "  [ 2  5 10]\n",
      "  [ 4  8  9]]] \n",
      "\n",
      "\n",
      "\n",
      "Indices of maximum values along each depth level:\n",
      "[[2 2 2]\n",
      " [0 1 2]\n",
      " [2 2 2]] \n",
      "\n",
      "\n",
      "\n",
      "Element-wise multiplication of the array with itself:\n",
      "[[[  9  36 100]\n",
      "  [ 49  25 100]\n",
      "  [  4  36 100]]\n",
      "\n",
      " [[ 25  16   9]\n",
      "  [  4  25   9]\n",
      "  [ 36  16  81]]\n",
      "\n",
      " [[ 16   1 100]\n",
      "  [  4  25 100]\n",
      "  [ 16  64  81]]]\n"
     ]
    }
   ],
   "source": [
    "\n",
    "# 6.  Create a 3D NumPy array of shape (3, 3, 3) containing random integers between 1 and 10. Perform the \n",
    "#     following operations:\n",
    "#      a) Find the indices of the maximum values along each depth level (third axis).\n",
    "#      b) Perform element-wise multiplication of between both array\n",
    "\n",
    "\n",
    "import numpy as np\n",
    "\n",
    "# Creating a 3D array of shape (3, 3, 3).\n",
    "array_3d = np.random.randint(1, 11, size=(3, 3, 3))\n",
    "\n",
    "print(\"Original 3D array:\")\n",
    "print(array_3d,\"\\n\\n\")\n",
    "\n",
    "\n",
    "\n",
    "# a) Find the indices of the maximum values along each depth level (third axis)\n",
    "max_indices_depth = np.argmax(array_3d, axis=2)\n",
    "print(\"\\nIndices of maximum values along each depth level:\")\n",
    "print(max_indices_depth,\"\\n\\n\")\n",
    "\n",
    "\n",
    "\n",
    "# b) Perform element-wise multiplication between both array\n",
    "multiplied_array = array_3d * array_3d\n",
    "print(\"\\nElement-wise multiplication of the array with itself:\")\n",
    "print(multiplied_array)\n",
    "\n",
    "\n",
    "\n",
    "\n",
    "\n",
    "\n",
    "\n",
    "\n"
   ]
  },
  {
   "cell_type": "code",
   "execution_count": 11,
   "id": "d2c4c044-cb64-40bb-992b-9fa2859a4ae0",
   "metadata": {},
   "outputs": [
    {
     "name": "stdout",
     "output_type": "stream",
     "text": [
      "Original DataFrame:\n",
      "     Index          User Id First Name Last Name  Gender  \\\n",
      "0        1  8717bbf45cCDbEe     Shelia   Mahoney    Male   \n",
      "1        2  3d5AD30A4cD38ed         Jo    Rivers  Female   \n",
      "2        3  810Ce0F276Badec     Sheryl    Lowery  Female   \n",
      "3        4  BF2a889C00f0cE1    Whitney    Hooper    Male   \n",
      "4        5  9afFEafAe1CBBB9    Lindsey      Rice  Female   \n",
      "..     ...              ...        ...       ...     ...   \n",
      "995    996  fedF4c7Fd9e7cFa       Kurt    Bryant  Female   \n",
      "996    997  ECddaFEDdEc4FAB      Donna     Barry  Female   \n",
      "997    998  2adde51d8B8979E      Cathy  Mckinney  Female   \n",
      "998    999  Fb2FE369D1E171A   Jermaine    Phelps    Male   \n",
      "999   1000  8b756f6231DDC6e        Lee      Tran  Female   \n",
      "\n",
      "                             Email                  Phone Date of birth  \\\n",
      "0              pwarner@example.org           857.139.8239    27-01-2014   \n",
      "1    fergusonkatherine@example.net                    NaN    26-07-1931   \n",
      "2              fhoward@example.org          (599)782-0605    25-11-2013   \n",
      "3            zjohnston@example.com                    NaN    17-11-2012   \n",
      "4                 elin@example.net     (390)417-1635x3010    15-04-1923   \n",
      "..                             ...                    ...           ...   \n",
      "995         lyonsdaisy@example.net           021.775.2933    05-01-1959   \n",
      "996        dariusbryan@example.com   001-149-710-7799x721    06-10-2001   \n",
      "997         georgechan@example.org  +1-750-774-4128x33265    13-05-1918   \n",
      "998            wanda04@example.net          (915)292-2254    31-08-1971   \n",
      "999        deannablack@example.org     079.752.5424x67259    24-01-1947   \n",
      "\n",
      "                           Job Title  Salary  \n",
      "0                  Probation officer   90000  \n",
      "1                             Dancer   80000  \n",
      "2                               Copy   50000  \n",
      "3           Counselling psychologist   65000  \n",
      "4                Biomedical engineer  100000  \n",
      "..                               ...     ...  \n",
      "995                Personnel officer   90000  \n",
      "996          Education administrator   50000  \n",
      "997  Commercial/residential surveyor   60000  \n",
      "998                 Ambulance person  100000  \n",
      "999       Nurse, learning disability   90000  \n",
      "\n",
      "[1000 rows x 10 columns] \n",
      "----------------------------------------------------------------\n",
      "\n",
      "\n",
      "Dataset after cleaning and transforming phone column :\n",
      "\n",
      "      Index          User Id First Name Last Name  Gender  \\\n",
      "0        1  8717bbf45cCDbEe     Shelia   Mahoney    Male   \n",
      "1        2  3d5AD30A4cD38ed         Jo    Rivers  Female   \n",
      "2        3  810Ce0F276Badec     Sheryl    Lowery  Female   \n",
      "3        4  BF2a889C00f0cE1    Whitney    Hooper    Male   \n",
      "4        5  9afFEafAe1CBBB9    Lindsey      Rice  Female   \n",
      "..     ...              ...        ...       ...     ...   \n",
      "995    996  fedF4c7Fd9e7cFa       Kurt    Bryant  Female   \n",
      "996    997  ECddaFEDdEc4FAB      Donna     Barry  Female   \n",
      "997    998  2adde51d8B8979E      Cathy  Mckinney  Female   \n",
      "998    999  Fb2FE369D1E171A   Jermaine    Phelps    Male   \n",
      "999   1000  8b756f6231DDC6e        Lee      Tran  Female   \n",
      "\n",
      "                             Email         Phone Date of birth  \\\n",
      "0              pwarner@example.org  8.571398e+09    27-01-2014   \n",
      "1    fergusonkatherine@example.net           NaN    26-07-1931   \n",
      "2              fhoward@example.org  5.997821e+09    25-11-2013   \n",
      "3            zjohnston@example.com           NaN    17-11-2012   \n",
      "4                 elin@example.net  3.904172e+13    15-04-1923   \n",
      "..                             ...           ...           ...   \n",
      "995         lyonsdaisy@example.net  2.177529e+08    05-01-1959   \n",
      "996        dariusbryan@example.com  1.149711e+13    06-10-2001   \n",
      "997         georgechan@example.org  1.750774e+15    13-05-1918   \n",
      "998            wanda04@example.net  9.152922e+09    31-08-1971   \n",
      "999        deannablack@example.org  7.975254e+13    24-01-1947   \n",
      "\n",
      "                           Job Title  Salary  \n",
      "0                  Probation officer   90000  \n",
      "1                             Dancer   80000  \n",
      "2                               Copy   50000  \n",
      "3           Counselling psychologist   65000  \n",
      "4                Biomedical engineer  100000  \n",
      "..                               ...     ...  \n",
      "995                Personnel officer   90000  \n",
      "996          Education administrator   50000  \n",
      "997  Commercial/residential surveyor   60000  \n",
      "998                 Ambulance person  100000  \n",
      "999       Nurse, learning disability   90000  \n",
      "\n",
      "[1000 rows x 10 columns] \n",
      "----------------------------------------------------------------\n",
      "\n",
      "\n",
      "\n",
      "Table Attributes:\n",
      "Shape: (1000, 10)\n",
      "Columns: Index(['Index', 'User Id', 'First Name', 'Last Name', 'Gender', 'Email',\n",
      "       'Phone', 'Date of birth', 'Job Title', 'Salary'],\n",
      "      dtype='object') \n",
      "----------------------------------------------------------------------------------\n",
      "\n",
      "\n",
      "\n",
      "Data Types of Each Column:\n",
      "\n",
      "Index              int64\n",
      "User Id           object\n",
      "First Name        object\n",
      "Last Name         object\n",
      "Gender            object\n",
      "Email             object\n",
      "Phone            float64\n",
      "Date of birth     object\n",
      "Job Title         object\n",
      "Salary             int64\n",
      "dtype: object\n"
     ]
    }
   ],
   "source": [
    "\n",
    "# 7. Clean and transform the 'Phone' column in the sample dataset to remove non-numeric characters and \n",
    "#    convert it to a numeric data type. Also display the table attributes and data types of each column\n",
    "\n",
    "\n",
    "\n",
    "import pandas as pd\n",
    "\n",
    "# Load the dataset into a Pandas DataFrame \n",
    "df = pd.read_csv(\"People Data.csv\")\n",
    "\n",
    "print(\"Original DataFrame:\")\n",
    "print(df,\"\\n----------------------------------------------------------------\\n\\n\")\n",
    "\n",
    "\n",
    "\n",
    "# Cleaning and transforming the 'Phone' column\n",
    "df['Phone'] = df['Phone'].str.replace(r'\\D', '', regex=True).astype(float)\n",
    "print(\"Dataset after cleaning and transforming phone column :\\n\\n\",df,\"\\n----------------------------------------------------------------\\n\\n\")\n",
    "\n",
    "# Display table attributes and data types of each column\n",
    "print(\"\\nTable Attributes:\")\n",
    "print(\"Shape:\", df.shape)\n",
    "print(\"Columns:\", df.columns,\"\\n----------------------------------------------------------------------------------\\n\\n\")\n",
    "print(\"\\nData Types of Each Column:\\n\")\n",
    "print(df.dtypes)\n"
   ]
  },
  {
   "cell_type": "code",
   "execution_count": 12,
   "id": "11284e73-87e7-41bb-89e0-e17033c84e5f",
   "metadata": {},
   "outputs": [
    {
     "name": "stdout",
     "output_type": "stream",
     "text": [
      "Output of Question no. 1 : Skip 50 rows..:\n",
      "\n",
      "   50  afF3018e9cdd1dA     George  Mercer  Female  \\\n",
      "0  51  CccE5DAb6E288e5         Jo  Zavala    Male   \n",
      "1  52  DfBDc3621D4bcec     Joshua   Carey  Female   \n",
      "2  53  f55b0A249f5E44D     Rickey   Hobbs  Female   \n",
      "3  54  Ed71DcfaBFd0beE      Robyn  Reilly    Male   \n",
      "4  55  FDaFD0c3f5387EC  Christina  Conrad    Male   \n",
      "\n",
      "  douglascontreras@example.net    +1-326-669-0118x4341  11-09-1941  \\\n",
      "0         pamela64@example.net  001-859-448-9935x54536  23-11-1992   \n",
      "1    dianashepherd@example.net    001-274-739-8470x814  07-01-1915   \n",
      "2    ingramtiffany@example.org        241.179.9509x498  01-07-1910   \n",
      "3   carriecrawford@example.org       207.797.8345x6177  27-07-1982   \n",
      "4   fuentesclaudia@example.net    001-599-042-7428x143  06-01-1998   \n",
      "\n",
      "  Human resources officer   70000  \n",
      "0            Nurse, adult   80000  \n",
      "1     Seismic interpreter   70000  \n",
      "2               Barrister   60000  \n",
      "3    Engineer, structural  100000  \n",
      "4         Producer, radio   50000  \n",
      "\n",
      "----------------------------------------------------------------------------------\n",
      "\n",
      "\n",
      "Output of Question no. 2 : Displaying the mentioned columns only :\n",
      "\n",
      "  Last Name  Gender                          Email               Phone  Salary\n",
      "0   Mahoney    Male            pwarner@example.org        857.139.8239   90000\n",
      "1    Rivers  Female  fergusonkatherine@example.net                 NaN   80000\n",
      "2    Lowery  Female            fhoward@example.org       (599)782-0605   50000\n",
      "3    Hooper    Male          zjohnston@example.com                 NaN   65000\n",
      "4      Rice  Female               elin@example.net  (390)417-1635x3010  100000\n",
      "\n",
      "----------------------------------------------------------------------------------\n",
      "\n",
      "\n",
      "Output of Question no. 3 :First 10 rows of the filtered dataset:\n",
      "\n",
      "  Last Name  Gender                          Email               Phone  Salary\n",
      "0   Mahoney    Male            pwarner@example.org        857.139.8239   90000\n",
      "1    Rivers  Female  fergusonkatherine@example.net                 NaN   80000\n",
      "2    Lowery  Female            fhoward@example.org       (599)782-0605   50000\n",
      "3    Hooper    Male          zjohnston@example.com                 NaN   65000\n",
      "4      Rice  Female               elin@example.net  (390)417-1635x3010  100000\n",
      "5  Caldwell    Male          kaitlin13@example.net          8537800927   50000\n",
      "6   Hoffman    Male         jeffharvey@example.com   093.655.7480x7895   60000\n",
      "7  Andersen    Male           alicia33@example.org          4709522945   65000\n",
      "8      Mays    Male             jake50@example.com        013.820.4758   50000\n",
      "9  Mitchell    Male      lanechristina@example.net  (560)903-5068x4985   50000\n",
      "\n",
      "----------------------------------------------------------------------------------\n",
      "\n",
      "\n",
      "Output of Question no. 4 :Last 5 values of the 'Salary' column:\n",
      "\n",
      "995     90000\n",
      "996     50000\n",
      "997     60000\n",
      "998    100000\n",
      "999     90000\n",
      "Name: Salary, dtype: int64\n"
     ]
    }
   ],
   "source": [
    "\n",
    "# 8. Perform the following tasks using people dataset:\n",
    "#     a) Read the 'data.csv' file using pandas, skipping the first 50 rows.\n",
    "#     b) Only read the columns: 'Last Name', ‘Gender’,’Email’,‘Phone’ and ‘Salary’ from the file.\n",
    "#     c) Display the first 10 rows of the filtered dataset.\n",
    "#     d) Extract the ‘Salary’' column as a Series and display its last 5 values\n",
    "\n",
    "\n",
    "\n",
    "#  a) Read the 'data.csv' file using pandas, skipping the first 50 rows.\n",
    "import pandas as pd\n",
    "\n",
    "print(\"Output of Question no. 1 : Skip 50 rows..:\\n\")\n",
    "# Read the 'data.csv' file skipping the first 50 rows\n",
    "df = pd.read_csv(\"People Data.csv\", skiprows=50)\n",
    "\n",
    "# Display the first few rows of the DataFrame\n",
    "print(df.head())\n",
    "print(\"\\n----------------------------------------------------------------------------------\\n\\n\")\n",
    "\n",
    "#-----------------------------------------------------------------------------------------------------------------------------\n",
    "\n",
    "# b) Only read the columns: 'Last Name', ‘Gender’,’Email’,‘Phone’ and ‘Salary’ from the file.\n",
    "\n",
    "columns_to_read = ['Last Name', 'Gender', 'Email', 'Phone', 'Salary']\n",
    "\n",
    "df = pd.read_csv('People Data.csv', usecols=columns_to_read)\n",
    "\n",
    "print(\"Output of Question no. 2 : Displaying the mentioned columns only :\\n\")\n",
    "# Display the first few rows of the DataFrame\n",
    "print(df.head())\n",
    "print(\"\\n----------------------------------------------------------------------------------\\n\\n\")\n",
    "\n",
    "#-----------------------------------------------------------------------------------------------------------------------------\n",
    "\n",
    "# c) Display the first 10 rows of the filtered dataset.\n",
    "\n",
    "# Display the first 10 rows of the filtered dataset\n",
    "print(\"Output of Question no. 3 :First 10 rows of the filtered dataset:\\n\")\n",
    "print(df.head(10))\n",
    "print(\"\\n----------------------------------------------------------------------------------\\n\\n\")\n",
    "\n",
    "\n",
    "#-----------------------------------------------------------------------------------------------------------------------------\n",
    "\n",
    "# d) Extract the ‘Salary’' column as a Series and display its last 5 values\n",
    "\n",
    "\n",
    "salary_series = df['Salary']\n",
    "\n",
    "# Displays the last 5 values of the 'Salary' column\n",
    "print(\"Output of Question no. 4 :Last 5 values of the 'Salary' column:\\n\")\n",
    "print(salary_series.tail(5))\n",
    "\n",
    "\n",
    "\n",
    "\n",
    "\n",
    "\n",
    "\n",
    "\n",
    "\n",
    "\n",
    "\n",
    "\n"
   ]
  },
  {
   "cell_type": "code",
   "execution_count": 13,
   "id": "fa05433e-c0ec-43b9-93cb-1b1ed39df631",
   "metadata": {},
   "outputs": [
    {
     "name": "stdout",
     "output_type": "stream",
     "text": [
      "Filtered dataset where Last Name contains 'Duke', Gender is 'Female', and Salary is less than 85000:\n",
      "     Index          User Id First Name Last Name  Gender  \\\n",
      "45      46  99A502C175C4EBd     Olivia      Duke  Female   \n",
      "210    211  DF17975CC0a0373    Katrina      Duke  Female   \n",
      "457    458  dcE1B7DE83c1076      Traci      Duke  Female   \n",
      "729    730  c9b482D7aa3e682     Lonnie      Duke  Female   \n",
      "\n",
      "                        Email                   Phone Date of birth  \\\n",
      "45        diana26@example.net  001-366-475-8607x04350    13-10-1934   \n",
      "210       robin78@example.com            740.434.0212    21-09-1935   \n",
      "457  perryhoffman@example.org     +1-903-596-0995x489    11-02-1997   \n",
      "729   kevinkramer@example.net            982.692.6257    12-05-2015   \n",
      "\n",
      "           Job Title  Salary  \n",
      "45           Dentist   60000  \n",
      "210  Producer, radio   50000  \n",
      "457        Herbalist   50000  \n",
      "729     Nurse, adult   70000  \n"
     ]
    }
   ],
   "source": [
    "\n",
    "# 9.  Filter and select rows from the People_Dataset, where the “Last Name' column contains the name 'Duke',  \n",
    "#     'Gender' column contains the word Female and ‘Salary’ should be less than 85000\n",
    "\n",
    "\n",
    "df = pd.read_csv('People Data.csv')\n",
    "\n",
    "# Filter the dataset based on conditions\n",
    "filtered_df = df[(df['Last Name'].str.contains('Duke', case=False)) & \n",
    "                 (df['Gender'].str.contains('Female', case=False)) &\n",
    "                 (df['Salary'] < 85000)]\n",
    "\n",
    "# Display the filtered dataset\n",
    "print(\"Filtered dataset where Last Name contains 'Duke', Gender is 'Female', and Salary is less than 85000:\")\n",
    "print(filtered_df)\n"
   ]
  },
  {
   "cell_type": "code",
   "execution_count": 14,
   "id": "be9b0cad-3ad8-48e8-ad89-adfebeb9cd9e",
   "metadata": {},
   "outputs": [
    {
     "name": "stdout",
     "output_type": "stream",
     "text": [
      "   0  1  2  3  4\n",
      "0  3  6  5  3  3\n",
      "1  1  1  2  5  5\n",
      "2  3  2  3  4  1\n",
      "3  6  5  2  1  6\n",
      "4  1  3  1  3  5\n",
      "5  3  5  2  2  2\n",
      "6  6  4  2  6  5\n"
     ]
    }
   ],
   "source": [
    "\n",
    "# 10. Create a 7*5 Dataframe in Pandas using a series generated from 35 random integers between 1 to 6?\n",
    "\n",
    "import pandas as pd\n",
    "import numpy as np\n",
    "\n",
    "# 35 random integers between 1 and 6\n",
    "random_integers = pd.Series(np.random.randint(1, 7, size=35))\n",
    "\n",
    "# Reshape the Series into a 7x5 DataFrame\n",
    "df = pd.DataFrame(random_integers.values.reshape(7, 5))\n",
    "\n",
    "\n",
    "print(df)\n"
   ]
  },
  {
   "cell_type": "code",
   "execution_count": 16,
   "id": "868300eb-06e6-442c-bb01-01f56f5917b5",
   "metadata": {},
   "outputs": [
    {
     "name": "stdout",
     "output_type": "stream",
     "text": [
      "DataFrame:\n",
      "    col1  col2\n",
      "0     49   837\n",
      "1     29   471\n",
      "2     46   631\n",
      "3     32   481\n",
      "4     46   151\n",
      "5     12   546\n",
      "6     28   885\n",
      "7     41   325\n",
      "8     18   301\n",
      "9     20   701\n",
      "10    42   828\n",
      "11    10   198\n",
      "12    35   877\n",
      "13    16   852\n",
      "14    45   808\n",
      "15    37   833\n",
      "16    33   125\n",
      "17    17   592\n",
      "18    13   737\n",
      "19    21   809\n",
      "20    24   157\n",
      "21    22   137\n",
      "22    27   788\n",
      "23    24  1000\n",
      "24    47   216\n",
      "25    12   825\n",
      "26    46   754\n",
      "27    28   454\n",
      "28    36   581\n",
      "29    38   385\n",
      "30    33   805\n",
      "31    44   651\n",
      "32    41   689\n",
      "33    14   764\n",
      "34    13   405\n",
      "35    48   969\n",
      "36    44   179\n",
      "37    50   993\n",
      "38    41   936\n",
      "39    41   882\n",
      "40    14   734\n",
      "41    18   804\n",
      "42    40   556\n",
      "43    23   862\n",
      "44    27   326\n",
      "45    32   605\n",
      "46    22   669\n",
      "47    35   786\n",
      "48    43   901\n",
      "49    34   823\n"
     ]
    }
   ],
   "source": [
    "\n",
    "# 11. Create two different Series, each of length 50, with the following criteria:\n",
    "#      a) The first Series should contain random numbers ranging from 10 to 50.\n",
    "#      b) The second Series should contain random numbers ranging from 100 to 1000.\n",
    "#      c) Create a DataFrame by joining these Series by column, and, change the names of the columns to 'col1', 'col2', etc\n",
    "\n",
    "\n",
    "import pandas as pd\n",
    "import numpy as np\n",
    "\n",
    "# a . Generate the first Series with random numbers ranging from 10 to 50\n",
    "first_series = pd.Series(np.random.randint(10, 51, size=50))\n",
    "\n",
    "# b. Generate the second Series with random numbers ranging from 100 to 1000\n",
    "second_series = pd.Series(np.random.randint(100, 1001, size=50))\n",
    "\n",
    "# c. Create a DataFrame by joining the Series by column\n",
    "df = pd.DataFrame({'col1': first_series, 'col2': second_series})\n",
    "\n",
    "# Display the DataFrame\n",
    "print(\"DataFrame:\")\n",
    "print(df)\n",
    "\n"
   ]
  },
  {
   "cell_type": "code",
   "execution_count": 17,
   "id": "74d3f26a-9b93-4f11-a083-2674282e31dc",
   "metadata": {},
   "outputs": [
    {
     "name": "stdout",
     "output_type": "stream",
     "text": [
      "Final DataFrame after deletions:\n",
      "     Index          User Id First Name Last Name  Gender  \\\n",
      "0        1  8717bbf45cCDbEe     Shelia   Mahoney    Male   \n",
      "1        2  3d5AD30A4cD38ed         Jo    Rivers  Female   \n",
      "2        3  810Ce0F276Badec     Sheryl    Lowery  Female   \n",
      "3        4  BF2a889C00f0cE1    Whitney    Hooper    Male   \n",
      "4        5  9afFEafAe1CBBB9    Lindsey      Rice  Female   \n",
      "..     ...              ...        ...       ...     ...   \n",
      "995    996  fedF4c7Fd9e7cFa       Kurt    Bryant  Female   \n",
      "996    997  ECddaFEDdEc4FAB      Donna     Barry  Female   \n",
      "997    998  2adde51d8B8979E      Cathy  Mckinney  Female   \n",
      "998    999  Fb2FE369D1E171A   Jermaine    Phelps    Male   \n",
      "999   1000  8b756f6231DDC6e        Lee      Tran  Female   \n",
      "\n",
      "                           Job Title  Salary  \n",
      "0                  Probation officer   90000  \n",
      "1                             Dancer   80000  \n",
      "2                               Copy   50000  \n",
      "3           Counselling psychologist   65000  \n",
      "4                Biomedical engineer  100000  \n",
      "..                               ...     ...  \n",
      "995                Personnel officer   90000  \n",
      "996          Education administrator   50000  \n",
      "997  Commercial/residential surveyor   60000  \n",
      "998                 Ambulance person  100000  \n",
      "999       Nurse, learning disability   90000  \n",
      "\n",
      "[1000 rows x 7 columns]\n"
     ]
    }
   ],
   "source": [
    "\n",
    "# 12.  Perform the following operations using people data set:\n",
    "#      a) Delete the 'Email', 'Phone', and 'Date of birth' columns from the dataset.\n",
    "#      b) Delete the rows containing any missing values.\n",
    "#      d) Print the final output also\n",
    "\n",
    "\n",
    "import pandas as pd\n",
    "\n",
    "\n",
    "df = pd.read_csv('People Data.csv')\n",
    "\n",
    "\n",
    "# a) Deleting the 'Email', 'Phone', and 'Date of birth' columns\n",
    "columns_to_delete = ['Email', 'Phone', 'Date of birth']\n",
    "df.drop(columns=columns_to_delete, inplace=True)\n",
    "\n",
    "\n",
    "# b) Deleting the rows containing any missing values\n",
    "df.dropna(inplace=True)\n",
    "\n",
    "\n",
    "# d) Print the final output\n",
    "print(\"Final DataFrame after deletions:\")\n",
    "print(df)\n",
    "\n",
    "\n"
   ]
  },
  {
   "cell_type": "code",
   "execution_count": 18,
   "id": "8659d39c-0d4c-4a90-b1be-602d9600c3f7",
   "metadata": {},
   "outputs": [
    {
     "data": {
      "image/png": "[encoded data removed]",
      "text/plain": [
       "<Figure size 640x480 with 1 Axes>"
      ]
     },
     "metadata": {},
     "output_type": "display_data"
    }
   ],
   "source": [
    "\n",
    "# 13.  Create two NumPy arrays, x and y, each containing 100 random float values between 0 and 1. Perform the \n",
    "#      following tasks using Matplotlib and NumPy:\n",
    "#      a) Create a scatter plot using x and y, setting the color of the points to red and the marker style to 'o'.\n",
    "#      b) Add a horizontal line at y = 0.5 using a dashed line style and label it as 'y = 0.5'.\n",
    "#      c) Add a vertical line at x = 0.5 using a dotted line style and label it as 'x = 0.5'.\n",
    "#      d) Label the x-axis as 'X-axis' and the y-axis as 'Y-axis'.\n",
    "#      e) Set the title of the plot as 'Advanced Scatter Plot of Random Values'.\n",
    "#      f) Display a legend for the scatter plot, the horizontal line, and the vertical line.\n",
    "\n",
    "\n",
    "\n",
    "import numpy as np\n",
    "import matplotlib.pyplot as plt\n",
    "\n",
    "# Creating two NumPy arrays,containing 100 random float values between 0 and 1\n",
    "x = np.random.rand(100)\n",
    "y = np.random.rand(100)\n",
    "\n",
    "\n",
    "# a) Create a scatter plot using x and y, setting the color of the points to red and the marker style to 'o'\n",
    "plt.scatter(x, y, color='red', marker='o', label='Scatter points')\n",
    "\n",
    "\n",
    "# b) Add a horizontal line at y = 0.5 using a dashed line style and label it as 'y = 0.5'\n",
    "plt.axhline(y=0.5, color='blue', linestyle='--', label='y = 0.5')\n",
    "\n",
    "\n",
    "# c) Add a vertical line at x = 0.5 using a dotted line style and label it as 'x = 0.5'\n",
    "plt.axvline(x=0.5, color='green', linestyle=':', label='x = 0.5')\n",
    "\n",
    "\n",
    "# d) Label the x-axis as 'X-axis' and the y-axis as 'Y-axis'\n",
    "plt.xlabel('X-axis')\n",
    "plt.ylabel('Y-axis')\n",
    "\n",
    "\n",
    "# e) Set the title of the plot as 'Advanced Scatter Plot of Random Values'\n",
    "plt.title('Advanced Scatter Plot of Random Values')\n",
    "\n",
    "\n",
    "# f) Display a legend for the scatter plot, the horizontal line, and the vertical line\n",
    "plt.legend()\n",
    "\n",
    "\n",
    "plt.show()\n",
    "\n",
    "\n"
   ]
  },
  {
   "cell_type": "code",
   "execution_count": 19,
   "id": "1306caba-48b0-458a-9ef3-341247ebbdf8",
   "metadata": {},
   "outputs": [
    {
     "data": {
      "image/png": "[encoded data removed]",
      "text/plain": [
       "<Figure size 640x480 with 2 Axes>"
      ]
     },
     "metadata": {},
     "output_type": "display_data"
    }
   ],
   "source": [
    "\n",
    "# 14. Create a time-series dataset in a Pandas DataFrame with columns: 'Date', 'Temperature', 'Humidity' and \n",
    "#     Perform the following tasks using Matplotlib: right y-axis for 'Humidity').\n",
    "#   a) Plot the 'Temperature' and 'Humidity' on the same plot with different y-axes (left y-axis for 'Temperature' and \n",
    "#   b) Label the x-axis as 'Date'.\n",
    "#   c) Set the title of the plot as 'Temperature and Humidity Over Time'.\n",
    "\n",
    "\n",
    "import pandas as pd\n",
    "import numpy as np\n",
    "import matplotlib.pyplot as plt\n",
    "\n",
    "\n",
    "# Creating the dataframe of cols : date, tempreatrure, Humidity.\n",
    "date_range = pd.date_range(start='2023-01-01', periods=30, freq='D')\n",
    "# Generating random values for Temperature and Humidity\n",
    "temperature = np.random.uniform(low=20, high=35, size=30)\n",
    "humidity = np.random.uniform(low=40, high=90, size=30)\n",
    "df = pd.DataFrame({\n",
    "    'Date': date_range,\n",
    "    'Temperature': temperature,\n",
    "    'Humidity': humidity\n",
    "})\n",
    "\n",
    "# Set 'Date' as the index\n",
    "df.set_index('Date', inplace=True)\n",
    "\n",
    "# Creating a plot with two y-axis\n",
    "fig, ax1 = plt.subplots()\n",
    "\n",
    "# a) Plot the 'Temperature' and 'Humidity' on the same plot with different y-axes (left y-axis for 'Temperature' and \n",
    "ax1.plot(df.index, df['Temperature'], 'b-', label='Temperature')\n",
    "\n",
    "# b) Label the x-axis as 'Date'.\n",
    "ax1.set_xlabel('Date')\n",
    "ax1.set_ylabel('Temperature (°C)', color='b')\n",
    "ax1.tick_params('y', colors='b')\n",
    "\n",
    "\n",
    "\n",
    "# Creating a second y-axis for 'Humidity'\n",
    "ax2 = ax1.twinx()\n",
    "ax2.plot(df.index, df['Humidity'], 'r-', label='Humidity')\n",
    "ax2.set_ylabel('Humidity (%)', color='r')\n",
    "ax2.tick_params('y', colors='r')\n",
    "\n",
    "# c) Set the title of the plot as 'Temperature and Humidity Over Time'.\n",
    "plt.title('Temperature and Humidity Over Time')\n",
    "\n",
    "# Show the plot\n",
    "plt.show()\n",
    "\n",
    "\n"
   ]
  },
  {
   "cell_type": "code",
   "execution_count": 20,
   "id": "d4d81556-77bc-487d-a68c-b9727fe379b8",
   "metadata": {},
   "outputs": [
    {
     "data": {
      "image/png": "[encoded data removed]",
      "text/plain": [
       "<Figure size 640x480 with 1 Axes>"
      ]
     },
     "metadata": {},
     "output_type": "display_data"
    }
   ],
   "source": [
    "\n",
    "# 15. Create a NumPy array data containing 1000 samples from a normal distribution. Perform the following \n",
    "#     tasks using Matplotlib:\n",
    "#     a) Plot a histogram of the data with 30 bins.\n",
    "#     b) Overlay a line plot representing the normal distribution's probability density function (PDF).\n",
    "#     c) Label the x-axis as 'Value' and the y-axis as 'Frequency/Probability'.\n",
    "#     d) Set the title of the plot as 'Histogram with PDF Overlay'.\n",
    "\n",
    "import numpy as np\n",
    "import matplotlib.pyplot as plt\n",
    "from scipy.stats import norm\n",
    "\n",
    "# Creating  a Numpy array containing 1000 samples from a normal distribution\n",
    "data = np.random.normal(loc=0, scale=1, size=1000)\n",
    "\n",
    "# a) Plot a histogram of the data with 30 bins\n",
    "count, bins, ignored = plt.hist(data, bins=30, density=True, alpha=0.6, color='g', label='Histogram')\n",
    "\n",
    "\n",
    "# Calculating the PDF of the normal distribution\n",
    "mu, std = norm.fit(data)\n",
    "pdf = norm.pdf(bins, mu, std)\n",
    "# b) Overlay a line plot representing the normal distribution's probability density function (PDF).\n",
    "plt.plot(bins, pdf, 'k', linewidth=2, label='PDF')\n",
    "\n",
    "\n",
    "\n",
    "# c) Label the x-axis as 'Value' and the y-axis as 'Frequency/Probability'.\n",
    "plt.xlabel('Value')\n",
    "plt.ylabel('Frequency/Probability')\n",
    "\n",
    "# d) Set the title of the plot as 'Histogram with PDF Overlay'.\n",
    "plt.title('Histogram with PDF Overlay')\n",
    "\n",
    "# Show the plot\n",
    "plt.legend()\n",
    "plt.show()\n",
    "\n",
    "\n"
   ]
  },
  {
   "cell_type": "code",
   "execution_count": 21,
   "id": "5bb77386-bdd7-46ea-9292-56d3cc6c495b",
   "metadata": {},
   "outputs": [
    {
     "data": {
      "image/png": "[encoded data removed]",
      "text/plain": [
       "<Figure size 640x480 with 1 Axes>"
      ]
     },
     "metadata": {},
     "output_type": "display_data"
    }
   ],
   "source": [
    "\n",
    "#  16. Set the title of the plot as 'Histogram with PDF Overlay'.\n",
    "\n",
    "plt.title('Histogram with PDF Overlay')\n",
    "\n",
    "\n",
    "plt.show()\n",
    "\n"
   ]
  },
  {
   "cell_type": "code",
   "execution_count": 22,
   "id": "37f71228-36fb-429a-81f5-83901d10d666",
   "metadata": {},
   "outputs": [
    {
     "data": {
      "image/png": "[encoded data removed]",
      "text/plain": [
       "<Figure size 1000x600 with 1 Axes>"
      ]
     },
     "metadata": {},
     "output_type": "display_data"
    }
   ],
   "source": [
    "\n",
    "# 17. Create a Seaborn scatter plot of two random arrays, color points based on their position relative to the \n",
    "#     origin (quadrants), add a legend, label the axes, and set the title as 'Quadrant-wise Scatter Plot'.\n",
    "\n",
    "import numpy as np\n",
    "import pandas as pd\n",
    "import seaborn as sns\n",
    "import matplotlib.pyplot as plt\n",
    "\n",
    "# Creating  two random arrays\n",
    "x = np.random.randn(100)\n",
    "y = np.random.randn(100)\n",
    "\n",
    "# Creating a DataFrame\n",
    "df = pd.DataFrame({'x': x, 'y': y})\n",
    "\n",
    "# Determine the quadrant for each point\n",
    "def determine_quadrant(row):\n",
    "    if row['x'] >= 0 and row['y'] >= 0:\n",
    "        return 'Q1'\n",
    "    elif row['x'] < 0 and row['y'] >= 0:\n",
    "        return 'Q2'\n",
    "    elif row['x'] < 0 and row['y'] < 0:\n",
    "        return 'Q3'\n",
    "    else:\n",
    "        return 'Q4'\n",
    "\n",
    "df['Quadrant'] = df.apply(determine_quadrant, axis=1)\n",
    "\n",
    "# Create a scatter plot with Seaborn\n",
    "plt.figure(figsize=(10, 6))\n",
    "scatter_plot = sns.scatterplot(data=df, x='x', y='y', hue='Quadrant', palette='deep', s=100)\n",
    "\n",
    "# Adding a legend\n",
    "plt.legend(title='Quadrant')\n",
    "plt.xlabel('X-axis')\n",
    "plt.ylabel('Y-axis')\n",
    "plt.title('Quadrant-wise Scatter Plot')\n",
    "\n",
    "plt.show()\n",
    "\n",
    "\n",
    "\n"
   ]
  },
  {
   "cell_type": "code",
   "execution_count": 23,
   "id": "436b472e-f7b7-4ca5-980c-4c68fd3e8da1",
   "metadata": {},
   "outputs": [
    {
     "name": "stdout",
     "output_type": "stream",
     "text": [
      "Requirement already satisfied: bokeh in /opt/conda/lib/python3.10/site-packages (3.0.3)\n",
      "Requirement already satisfied: tornado>=5.1 in /opt/conda/lib/python3.10/site-packages (from bokeh) (6.1)\n",
      "Requirement already satisfied: contourpy>=1 in /opt/conda/lib/python3.10/site-packages (from bokeh) (1.0.6)\n",
      "Requirement already satisfied: pillow>=7.1.0 in /opt/conda/lib/python3.10/site-packages (from bokeh) (9.2.0)\n",
      "Requirement already satisfied: PyYAML>=3.10 in /opt/conda/lib/python3.10/site-packages (from bokeh) (6.0)\n",
      "Requirement already satisfied: Jinja2>=2.9 in /opt/conda/lib/python3.10/site-packages (from bokeh) (3.1.2)\n",
      "Requirement already satisfied: packaging>=16.8 in /opt/conda/lib/python3.10/site-packages (from bokeh) (22.0)\n",
      "Requirement already satisfied: xyzservices>=2021.09.1 in /opt/conda/lib/python3.10/site-packages (from bokeh) (2022.9.0)\n",
      "Requirement already satisfied: numpy>=1.11.3 in /opt/conda/lib/python3.10/site-packages (from bokeh) (1.23.5)\n",
      "Requirement already satisfied: pandas>=1.2 in /opt/conda/lib/python3.10/site-packages (from bokeh) (1.5.2)\n",
      "Requirement already satisfied: MarkupSafe>=2.0 in /opt/conda/lib/python3.10/site-packages (from Jinja2>=2.9->bokeh) (2.1.1)\n",
      "Requirement already satisfied: python-dateutil>=2.8.1 in /opt/conda/lib/python3.10/site-packages (from pandas>=1.2->bokeh) (2.8.2)\n",
      "Requirement already satisfied: pytz>=2020.1 in /opt/conda/lib/python3.10/site-packages (from pandas>=1.2->bokeh) (2022.6)\n",
      "Requirement already satisfied: six>=1.5 in /opt/conda/lib/python3.10/site-packages (from python-dateutil>=2.8.1->pandas>=1.2->bokeh) (1.16.0)\n",
      "Note: you may need to restart the kernel to use updated packages.\n"
     ]
    }
   ],
   "source": [
    "pip install bokeh\n"
   ]
  },
  {
   "cell_type": "code",
   "execution_count": 24,
   "id": "103f64ab-da4a-4f9d-ae8a-18904a165929",
   "metadata": {},
   "outputs": [
    {
     "data": {
      "text/html": [
       "<style>\n",
       "        .bk-notebook-logo {\n",
       "            display: block;\n",
       "            width: 20px;\n",
       "            height: 20px;\n",
       "            background-image: url(data:image/png;base64,iVBORw0KGgoAAAANSUhEUgAAABQAAAAUCAYAAACNiR0NAAAABHNCSVQICAgIfAhkiAAAAAlwSFlzAAALEgAACxIB0t1+/AAAABx0RVh0U29mdHdhcmUAQWRvYmUgRmlyZXdvcmtzIENTNui8sowAAAOkSURBVDiNjZRtaJVlGMd/1/08zzln5zjP1LWcU9N0NkN8m2CYjpgQYQXqSs0I84OLIC0hkEKoPtiH3gmKoiJDU7QpLgoLjLIQCpEsNJ1vqUOdO7ppbuec5+V+rj4ctwzd8IIbbi6u+8f1539dt3A78eXC7QizUF7gyV1fD1Yqg4JWz84yffhm0qkFqBogB9rM8tZdtwVsPUhWhGcFJngGeWrPzHm5oaMmkfEg1usvLFyc8jLRqDOMru7AyC8saQr7GG7f5fvDeH7Ej8CM66nIF+8yngt6HWaKh7k49Soy9nXurCi1o3qUbS3zWfrYeQDTB/Qj6kX6Ybhw4B+bOYoLKCC9H3Nu/leUTZ1JdRWkkn2ldcCamzrcf47KKXdAJllSlxAOkRgyHsGC/zRday5Qld9DyoM4/q/rUoy/CXh3jzOu3bHUVZeU+DEn8FInkPBFlu3+nW3Nw0mk6vCDiWg8CeJaxEwuHS3+z5RgY+YBR6V1Z1nxSOfoaPa4LASWxxdNp+VWTk7+4vzaou8v8PN+xo+KY2xsw6une2frhw05CTYOmQvsEhjhWjn0bmXPjpE1+kplmmkP3suftwTubK9Vq22qKmrBhpY4jvd5afdRA3wGjFAgcnTK2s4hY0/GPNIb0nErGMCRxWOOX64Z8RAC4oCXdklmEvcL8o0BfkNK4lUg9HTl+oPlQxdNo3Mg4Nv175e/1LDGzZen30MEjRUtmXSfiTVu1kK8W4txyV6BMKlbgk3lMwYCiusNy9fVfvvwMxv8Ynl6vxoByANLTWplvuj/nF9m2+PDtt1eiHPBr1oIfhCChQMBw6Aw0UulqTKZdfVvfG7VcfIqLG9bcldL/+pdWTLxLUy8Qq38heUIjh4XlzZxzQm19lLFlr8vdQ97rjZVOLf8nclzckbcD4wxXMidpX30sFd37Fv/GtwwhzhxGVAprjbg0gCAEeIgwCZyTV2Z1REEW8O4py0wsjeloKoMr6iCY6dP92H6Vw/oTyICIthibxjm/DfN9lVz8IqtqKYLUXfoKVMVQVVJOElGjrnnUt9T9wbgp8AyYKaGlqingHZU/uG2NTZSVqwHQTWkx9hxjkpWDaCg6Ckj5qebgBVbT3V3NNXMSiWSDdGV3hrtzla7J+duwPOToIg42ChPQOQjspnSlp1V+Gjdged7+8UN5CRAV7a5EdFNwCjEaBR27b3W890TE7g24NAP/mMDXRWrGoFPQI9ls/MWO2dWFAar/xcOIImbbpA3zgAAAABJRU5ErkJggg==);\n",
       "        }\n",
       "    </style>\n",
       "    <div>\n",
       "        <a href=\"https://bokeh.org\" target=\"_blank\" class=\"bk-notebook-logo\"></a>\n",
       "        <span id=\"p1001\">Loading BokehJS ...</span>\n",
       "    </div>\n"
      ]
     },
     "metadata": {},
     "output_type": "display_data"
    },
    {
     "data": {
      "application/javascript": [
       "(function(root) {\n",
       "  function now() {\n",
       "    return new Date();\n",
       "  }\n",
       "\n",
       "  const force = true;\n",
       "\n",
       "  if (typeof root._bokeh_onload_callbacks === \"undefined\" || force === true) {\n",
       "    root._bokeh_onload_callbacks = [];\n",
       "    root._bokeh_is_loading = undefined;\n",
       "  }\n",
       "\n",
       "const JS_MIME_TYPE = 'application/javascript';\n",
       "  const HTML_MIME_TYPE = 'text/html';\n",
       "  const EXEC_MIME_TYPE = 'application/vnd.bokehjs_exec.v0+json';\n",
       "  const CLASS_NAME = 'output_bokeh rendered_html';\n",
       "\n",
       "  /**\n",
       "   * Render data to the DOM node\n",
       "   */\n",
       "  function render(props, node) {\n",
       "    const script = document.createElement(\"script\");\n",
       "    node.appendChild(script);\n",
       "  }\n",
       "\n",
       "  /**\n",
       "   * Handle when an output is cleared or removed\n",
       "   */\n",
       "  function handleClearOutput(event, handle) {\n",
       "    const cell = handle.cell;\n",
       "\n",
       "    const id = cell.output_area._bokeh_element_id;\n",
       "    const server_id = cell.output_area._bokeh_server_id;\n",
       "    // Clean up Bokeh references\n",
       "    if (id != null && id in Bokeh.index) {\n",
       "      Bokeh.index[id].model.document.clear();\n",
       "      delete Bokeh.index[id];\n",
       "    }\n",
       "\n",
       "    if (server_id !== undefined) {\n",
       "      // Clean up Bokeh references\n",
       "      const cmd_clean = \"from bokeh.io.state import curstate; print(curstate().uuid_to_server['\" + server_id + \"'].get_sessions()[0].document.roots[0]._id)\";\n",
       "      cell.notebook.kernel.execute(cmd_clean, {\n",
       "        iopub: {\n",
       "          output: function(msg) {\n",
       "            const id = msg.content.text.trim();\n",
       "            if (id in Bokeh.index) {\n",
       "              Bokeh.index[id].model.document.clear();\n",
       "              delete Bokeh.index[id];\n",
       "            }\n",
       "          }\n",
       "        }\n",
       "      });\n",
       "      // Destroy server and session\n",
       "      const cmd_destroy = \"import bokeh.io.notebook as ion; ion.destroy_server('\" + server_id + \"')\";\n",
       "      cell.notebook.kernel.execute(cmd_destroy);\n",
       "    }\n",
       "  }\n",
       "\n",
       "  /**\n",
       "   * Handle when a new output is added\n",
       "   */\n",
       "  function handleAddOutput(event, handle) {\n",
       "    const output_area = handle.output_area;\n",
       "    const output = handle.output;\n",
       "\n",
       "    // limit handleAddOutput to display_data with EXEC_MIME_TYPE content only\n",
       "    if ((output.output_type != \"display_data\") || (!Object.prototype.hasOwnProperty.call(output.data, EXEC_MIME_TYPE))) {\n",
       "      return\n",
       "    }\n",
       "\n",
       "    const toinsert = output_area.element.find(\".\" + CLASS_NAME.split(' ')[0]);\n",
       "\n",
       "    if (output.metadata[EXEC_MIME_TYPE][\"id\"] !== undefined) {\n",
       "      toinsert[toinsert.length - 1].firstChild.textContent = output.data[JS_MIME_TYPE];\n",
       "      // store reference to embed id on output_area\n",
       "      output_area._bokeh_element_id = output.metadata[EXEC_MIME_TYPE][\"id\"];\n",
       "    }\n",
       "    if (output.metadata[EXEC_MIME_TYPE][\"server_id\"] !== undefined) {\n",
       "      const bk_div = document.createElement(\"div\");\n",
       "      bk_div.innerHTML = output.data[HTML_MIME_TYPE];\n",
       "      const script_attrs = bk_div.children[0].attributes;\n",
       "      for (let i = 0; i < script_attrs.length; i++) {\n",
       "        toinsert[toinsert.length - 1].firstChild.setAttribute(script_attrs[i].name, script_attrs[i].value);\n",
       "        toinsert[toinsert.length - 1].firstChild.textContent = bk_div.children[0].textContent\n",
       "      }\n",
       "      // store reference to server id on output_area\n",
       "      output_area._bokeh_server_id = output.metadata[EXEC_MIME_TYPE][\"server_id\"];\n",
       "    }\n",
       "  }\n",
       "\n",
       "  function register_renderer(events, OutputArea) {\n",
       "\n",
       "    function append_mime(data, metadata, element) {\n",
       "      // create a DOM node to render to\n",
       "      const toinsert = this.create_output_subarea(\n",
       "        metadata,\n",
       "        CLASS_NAME,\n",
       "        EXEC_MIME_TYPE\n",
       "      );\n",
       "      this.keyboard_manager.register_events(toinsert);\n",
       "      // Render to node\n",
       "      const props = {data: data, metadata: metadata[EXEC_MIME_TYPE]};\n",
       "      render(props, toinsert[toinsert.length - 1]);\n",
       "      element.append(toinsert);\n",
       "      return toinsert\n",
       "    }\n",
       "\n",
       "    /* Handle when an output is cleared or removed */\n",
       "    events.on('clear_output.CodeCell', handleClearOutput);\n",
       "    events.on('delete.Cell', handleClearOutput);\n",
       "\n",
       "    /* Handle when a new output is added */\n",
       "    events.on('output_added.OutputArea', handleAddOutput);\n",
       "\n",
       "    /**\n",
       "     * Register the mime type and append_mime function with output_area\n",
       "     */\n",
       "    OutputArea.prototype.register_mime_type(EXEC_MIME_TYPE, append_mime, {\n",
       "      /* Is output safe? */\n",
       "      safe: true,\n",
       "      /* Index of renderer in `output_area.display_order` */\n",
       "      index: 0\n",
       "    });\n",
       "  }\n",
       "\n",
       "  // register the mime type if in Jupyter Notebook environment and previously unregistered\n",
       "  if (root.Jupyter !== undefined) {\n",
       "    const events = require('base/js/events');\n",
       "    const OutputArea = require('notebook/js/outputarea').OutputArea;\n",
       "\n",
       "    if (OutputArea.prototype.mime_types().indexOf(EXEC_MIME_TYPE) == -1) {\n",
       "      register_renderer(events, OutputArea);\n",
       "    }\n",
       "  }\n",
       "  if (typeof (root._bokeh_timeout) === \"undefined\" || force === true) {\n",
       "    root._bokeh_timeout = Date.now() + 5000;\n",
       "    root._bokeh_failed_load = false;\n",
       "  }\n",
       "\n",
       "  const NB_LOAD_WARNING = {'data': {'text/html':\n",
       "     \"<div style='background-color: #fdd'>\\n\"+\n",
       "     \"<p>\\n\"+\n",
       "     \"BokehJS does not appear to have successfully loaded. If loading BokehJS from CDN, this \\n\"+\n",
       "     \"may be due to a slow or bad network connection. Possible fixes:\\n\"+\n",
       "     \"</p>\\n\"+\n",
       "     \"<ul>\\n\"+\n",
       "     \"<li>re-rerun `output_notebook()` to attempt to load from CDN again, or</li>\\n\"+\n",
       "     \"<li>use INLINE resources instead, as so:</li>\\n\"+\n",
       "     \"</ul>\\n\"+\n",
       "     \"<code>\\n\"+\n",
       "     \"from bokeh.resources import INLINE\\n\"+\n",
       "     \"output_notebook(resources=INLINE)\\n\"+\n",
       "     \"</code>\\n\"+\n",
       "     \"</div>\"}};\n",
       "\n",
       "  function display_loaded() {\n",
       "    const el = document.getElementById(\"p1001\");\n",
       "    if (el != null) {\n",
       "      el.textContent = \"BokehJS is loading...\";\n",
       "    }\n",
       "    if (root.Bokeh !== undefined) {\n",
       "      if (el != null) {\n",
       "        el.textContent = \"BokehJS \" + root.Bokeh.version + \" successfully loaded.\";\n",
       "      }\n",
       "    } else if (Date.now() < root._bokeh_timeout) {\n",
       "      setTimeout(display_loaded, 100)\n",
       "    }\n",
       "  }\n",
       "\n",
       "  function run_callbacks() {\n",
       "    try {\n",
       "      root._bokeh_onload_callbacks.forEach(function(callback) {\n",
       "        if (callback != null)\n",
       "          callback();\n",
       "      });\n",
       "    } finally {\n",
       "      delete root._bokeh_onload_callbacks\n",
       "    }\n",
       "    console.debug(\"Bokeh: all callbacks have finished\");\n",
       "  }\n",
       "\n",
       "  function load_libs(css_urls, js_urls, callback) {\n",
       "    if (css_urls == null) css_urls = [];\n",
       "    if (js_urls == null) js_urls = [];\n",
       "\n",
       "    root._bokeh_onload_callbacks.push(callback);\n",
       "    if (root._bokeh_is_loading > 0) {\n",
       "      console.debug(\"Bokeh: BokehJS is being loaded, scheduling callback at\", now());\n",
       "      return null;\n",
       "    }\n",
       "    if (js_urls == null || js_urls.length === 0) {\n",
       "      run_callbacks();\n",
       "      return null;\n",
       "    }\n",
       "    console.debug(\"Bokeh: BokehJS not loaded, scheduling load and callback at\", now());\n",
       "    root._bokeh_is_loading = css_urls.length + js_urls.length;\n",
       "\n",
       "    function on_load() {\n",
       "      root._bokeh_is_loading--;\n",
       "      if (root._bokeh_is_loading === 0) {\n",
       "        console.debug(\"Bokeh: all BokehJS libraries/stylesheets loaded\");\n",
       "        run_callbacks()\n",
       "      }\n",
       "    }\n",
       "\n",
       "    function on_error(url) {\n",
       "      console.error(\"failed to load \" + url);\n",
       "    }\n",
       "\n",
       "    for (let i = 0; i < css_urls.length; i++) {\n",
       "      const url = css_urls[i];\n",
       "      const element = document.createElement(\"link\");\n",
       "      element.onload = on_load;\n",
       "      element.onerror = on_error.bind(null, url);\n",
       "      element.rel = \"stylesheet\";\n",
       "      element.type = \"text/css\";\n",
       "      element.href = url;\n",
       "      console.debug(\"Bokeh: injecting link tag for BokehJS stylesheet: \", url);\n",
       "      document.body.appendChild(element);\n",
       "    }\n",
       "\n",
       "    for (let i = 0; i < js_urls.length; i++) {\n",
       "      const url = js_urls[i];\n",
       "      const element = document.createElement('script');\n",
       "      element.onload = on_load;\n",
       "      element.onerror = on_error.bind(null, url);\n",
       "      element.async = false;\n",
       "      element.src = url;\n",
       "      console.debug(\"Bokeh: injecting script tag for BokehJS library: \", url);\n",
       "      document.head.appendChild(element);\n",
       "    }\n",
       "  };\n",
       "\n",
       "  function inject_raw_css(css) {\n",
       "    const element = document.createElement(\"style\");\n",
       "    element.appendChild(document.createTextNode(css));\n",
       "    document.body.appendChild(element);\n",
       "  }\n",
       "\n",
       "  const js_urls = [\"https://cdn.bokeh.org/bokeh/release/bokeh-3.0.3.min.js\", \"https://cdn.bokeh.org/bokeh/release/bokeh-gl-3.0.3.min.js\", \"https://cdn.bokeh.org/bokeh/release/bokeh-widgets-3.0.3.min.js\", \"https://cdn.bokeh.org/bokeh/release/bokeh-tables-3.0.3.min.js\", \"https://cdn.bokeh.org/bokeh/release/bokeh-mathjax-3.0.3.min.js\"];\n",
       "  const css_urls = [];\n",
       "\n",
       "  const inline_js = [    function(Bokeh) {\n",
       "      Bokeh.set_log_level(\"info\");\n",
       "    },\n",
       "function(Bokeh) {\n",
       "    }\n",
       "  ];\n",
       "\n",
       "  function run_inline_js() {\n",
       "    if (root.Bokeh !== undefined || force === true) {\n",
       "          for (let i = 0; i < inline_js.length; i++) {\n",
       "      inline_js[i].call(root, root.Bokeh);\n",
       "    }\n",
       "if (force === true) {\n",
       "        display_loaded();\n",
       "      }} else if (Date.now() < root._bokeh_timeout) {\n",
       "      setTimeout(run_inline_js, 100);\n",
       "    } else if (!root._bokeh_failed_load) {\n",
       "      console.log(\"Bokeh: BokehJS failed to load within specified timeout.\");\n",
       "      root._bokeh_failed_load = true;\n",
       "    } else if (force !== true) {\n",
       "      const cell = $(document.getElementById(\"p1001\")).parents('.cell').data().cell;\n",
       "      cell.output_area.append_execute_result(NB_LOAD_WARNING)\n",
       "    }\n",
       "  }\n",
       "\n",
       "  if (root._bokeh_is_loading === 0) {\n",
       "    console.debug(\"Bokeh: BokehJS loaded, going straight to plotting\");\n",
       "    run_inline_js();\n",
       "  } else {\n",
       "    load_libs(css_urls, js_urls, function() {\n",
       "      console.debug(\"Bokeh: BokehJS plotting callback run at\", now());\n",
       "      run_inline_js();\n",
       "    });\n",
       "  }\n",
       "}(window));"
      ],
      "application/vnd.bokehjs_load.v0+json": "(function(root) {\n  function now() {\n    return new Date();\n  }\n\n  const force = true;\n\n  if (typeof root._bokeh_onload_callbacks === \"undefined\" || force === true) {\n    root._bokeh_onload_callbacks = [];\n    root._bokeh_is_loading = undefined;\n  }\n\n\n  if (typeof (root._bokeh_timeout) === \"undefined\" || force === true) {\n    root._bokeh_timeout = Date.now() + 5000;\n    root._bokeh_failed_load = false;\n  }\n\n  const NB_LOAD_WARNING = {'data': {'text/html':\n     \"<div style='background-color: #fdd'>\\n\"+\n     \"<p>\\n\"+\n     \"BokehJS does not appear to have successfully loaded. If loading BokehJS from CDN, this \\n\"+\n     \"may be due to a slow or bad network connection. Possible fixes:\\n\"+\n     \"</p>\\n\"+\n     \"<ul>\\n\"+\n     \"<li>re-rerun `output_notebook()` to attempt to load from CDN again, or</li>\\n\"+\n     \"<li>use INLINE resources instead, as so:</li>\\n\"+\n     \"</ul>\\n\"+\n     \"<code>\\n\"+\n     \"from bokeh.resources import INLINE\\n\"+\n     \"output_notebook(resources=INLINE)\\n\"+\n     \"</code>\\n\"+\n     \"</div>\"}};\n\n  function display_loaded() {\n    const el = document.getElementById(\"p1001\");\n    if (el != null) {\n      el.textContent = \"BokehJS is loading...\";\n    }\n    if (root.Bokeh !== undefined) {\n      if (el != null) {\n        el.textContent = \"BokehJS \" + root.Bokeh.version + \" successfully loaded.\";\n      }\n    } else if (Date.now() < root._bokeh_timeout) {\n      setTimeout(display_loaded, 100)\n    }\n  }\n\n  function run_callbacks() {\n    try {\n      root._bokeh_onload_callbacks.forEach(function(callback) {\n        if (callback != null)\n          callback();\n      });\n    } finally {\n      delete root._bokeh_onload_callbacks\n    }\n    console.debug(\"Bokeh: all callbacks have finished\");\n  }\n\n  function load_libs(css_urls, js_urls, callback) {\n    if (css_urls == null) css_urls = [];\n    if (js_urls == null) js_urls = [];\n\n    root._bokeh_onload_callbacks.push(callback);\n    if (root._bokeh_is_loading > 0) {\n      console.debug(\"Bokeh: BokehJS is being loaded, scheduling callback at\", now());\n      return null;\n    }\n    if (js_urls == null || js_urls.length === 0) {\n      run_callbacks();\n      return null;\n    }\n    console.debug(\"Bokeh: BokehJS not loaded, scheduling load and callback at\", now());\n    root._bokeh_is_loading = css_urls.length + js_urls.length;\n\n    function on_load() {\n      root._bokeh_is_loading--;\n      if (root._bokeh_is_loading === 0) {\n        console.debug(\"Bokeh: all BokehJS libraries/stylesheets loaded\");\n        run_callbacks()\n      }\n    }\n\n    function on_error(url) {\n      console.error(\"failed to load \" + url);\n    }\n\n    for (let i = 0; i < css_urls.length; i++) {\n      const url = css_urls[i];\n      const element = document.createElement(\"link\");\n      element.onload = on_load;\n      element.onerror = on_error.bind(null, url);\n      element.rel = \"stylesheet\";\n      element.type = \"text/css\";\n      element.href = url;\n      console.debug(\"Bokeh: injecting link tag for BokehJS stylesheet: \", url);\n      document.body.appendChild(element);\n    }\n\n    for (let i = 0; i < js_urls.length; i++) {\n      const url = js_urls[i];\n      const element = document.createElement('script');\n      element.onload = on_load;\n      element.onerror = on_error.bind(null, url);\n      element.async = false;\n      element.src = url;\n      console.debug(\"Bokeh: injecting script tag for BokehJS library: \", url);\n      document.head.appendChild(element);\n    }\n  };\n\n  function inject_raw_css(css) {\n    const element = document.createElement(\"style\");\n    element.appendChild(document.createTextNode(css));\n    document.body.appendChild(element);\n  }\n\n  const js_urls = [\"https://cdn.bokeh.org/bokeh/release/bokeh-3.0.3.min.js\", \"https://cdn.bokeh.org/bokeh/release/bokeh-gl-3.0.3.min.js\", \"https://cdn.bokeh.org/bokeh/release/bokeh-widgets-3.0.3.min.js\", \"https://cdn.bokeh.org/bokeh/release/bokeh-tables-3.0.3.min.js\", \"https://cdn.bokeh.org/bokeh/release/bokeh-mathjax-3.0.3.min.js\"];\n  const css_urls = [];\n\n  const inline_js = [    function(Bokeh) {\n      Bokeh.set_log_level(\"info\");\n    },\nfunction(Bokeh) {\n    }\n  ];\n\n  function run_inline_js() {\n    if (root.Bokeh !== undefined || force === true) {\n          for (let i = 0; i < inline_js.length; i++) {\n      inline_js[i].call(root, root.Bokeh);\n    }\nif (force === true) {\n        display_loaded();\n      }} else if (Date.now() < root._bokeh_timeout) {\n      setTimeout(run_inline_js, 100);\n    } else if (!root._bokeh_failed_load) {\n      console.log(\"Bokeh: BokehJS failed to load within specified timeout.\");\n      root._bokeh_failed_load = true;\n    } else if (force !== true) {\n      const cell = $(document.getElementById(\"p1001\")).parents('.cell').data().cell;\n      cell.output_area.append_execute_result(NB_LOAD_WARNING)\n    }\n  }\n\n  if (root._bokeh_is_loading === 0) {\n    console.debug(\"Bokeh: BokehJS loaded, going straight to plotting\");\n    run_inline_js();\n  } else {\n    load_libs(css_urls, js_urls, function() {\n      console.debug(\"Bokeh: BokehJS plotting callback run at\", now());\n      run_inline_js();\n    });\n  }\n}(window));"
     },
     "metadata": {},
     "output_type": "display_data"
    },
    {
     "data": {
      "text/html": [
       "\n",
       "  <div id=\"94785ce2-278d-45d5-bf2f-030e2dbc186e\" data-root-id=\"p1002\" style=\"display: contents;\"></div>\n"
      ]
     },
     "metadata": {},
     "output_type": "display_data"
    },
    {
     "data": {
      "application/javascript": [
       "(function(root) {\n",
       "  function embed_document(root) {\n",
       "  const docs_json = {\"1704eb33-af72-4504-9128-652679fe2630\":{\"version\":\"3.0.3\",\"title\":\"Bokeh Application\",\"defs\":[],\"roots\":[{\"type\":\"object\",\"name\":\"Figure\",\"id\":\"p1002\",\"attributes\":{\"x_range\":{\"type\":\"object\",\"name\":\"DataRange1d\",\"id\":\"p1004\"},\"y_range\":{\"type\":\"object\",\"name\":\"DataRange1d\",\"id\":\"p1003\"},\"x_scale\":{\"type\":\"object\",\"name\":\"LinearScale\",\"id\":\"p1016\"},\"y_scale\":{\"type\":\"object\",\"name\":\"LinearScale\",\"id\":\"p1018\"},\"title\":{\"type\":\"object\",\"name\":\"Title\",\"id\":\"p1005\",\"attributes\":{\"text\":\"Sine Wave Function\"}},\"renderers\":[{\"type\":\"object\",\"name\":\"GlyphRenderer\",\"id\":\"p1055\",\"attributes\":{\"data_source\":{\"type\":\"object\",\"name\":\"ColumnDataSource\",\"id\":\"p1049\",\"attributes\":{\"selected\":{\"type\":\"object\",\"name\":\"Selection\",\"id\":\"p1051\",\"attributes\":{\"indices\":[],\"line_indices\":[]}},\"selection_policy\":{\"type\":\"object\",\"name\":\"UnionRenderers\",\"id\":\"p1050\"},\"data\":{\"type\":\"map\",\"entries\":[[\"x\",{\"type\":\"ndarray\",\"array\":{\"type\":\"bytes\",\"data\":\"AAAAAAAAAACRGkt8Vz/AP5EaS3xXP9A/2qdwOgNf2D+RGkt8Vz/gPzXhXVstT+Q/2qdwOgNf6D9+boMZ2W7sP5EaS3xXP/A/433Ua0JH8j814V1bLU/0P4dE50oYV/Y/2qdwOgNf+D8sC/op7mb6P35ugxnZbvw/0NEMCcR2/j+RGkt8Vz8AQDrMD/RMQwFA433Ua0JHAkCML5njN0sDQDXhXVstTwRA3pIi0yJTBUCHROdKGFcGQDD2q8INWwdA2qdwOgNfCECDWTWy+GIJQCwL+inuZgpA1by+oeNqC0B+boMZ2W4MQCcgSJHOcg1A0NEMCcR2DkB5g9GAuXoPQJEaS3xXPxBAZnMtOFLBEEA6zA/0TEMRQA8l8q9HxRFA433Ua0JHEkC41rYnPckSQIwvmeM3SxNAYYh7nzLNE0A14V1bLU8UQAo6QBco0RRA3pIi0yJTFUCz6wSPHdUVQIdE50oYVxZAXJ3JBhPZFkAw9qvCDVsXQAVPjn4I3RdA2qdwOgNfGECuAFP2/eAYQINZNbL4YhlAV7IXbvPkGUAsC/op7mYaQABk3OXo6BpA1by+oeNqG0CpFaFd3uwbQH5ugxnZbhxAUsdl1dPwHEAnIEiRznIdQPt4Kk3J9B1A0NEMCcR2HkCkKu/EvvgeQHmD0YC5eh9ATdyzPLT8H0CRGkt8Vz8gQPtGPNpUgCBAZnMtOFLBIEDQnx6WTwIhQDrMD/RMQyFApPgAUkqEIUAPJfKvR8UhQHlR4w1FBiJA433Ua0JHIkBNqsXJP4giQLjWtic9ySJAIgOohToKI0CML5njN0sjQPZbikE1jCNAYYh7nzLNI0DLtGz9Lw4kQDXhXVstTyRAoA1PuSqQJEAKOkAXKNEkQHRmMXUlEiVA3pIi0yJTJUBJvxMxIJQlQLPrBI8d1SVAHRj27BoWJkCHROdKGFcmQPJw2KgVmCZAXJ3JBhPZJkDGybpkEBonQDD2q8INWydAmyKdIAucJ0AFT45+CN0nQG97f9wFHihA2qdwOgNfKEBE1GGYAKAoQK4AU/b94ChAGC1EVPshKUA=\"},\"shape\":[100],\"dtype\":\"float64\",\"order\":\"little\"}],[\"y\",{\"type\":\"ndarray\",\"array\":{\"type\":\"bytes\",\"data\":\"AAAAAAAAAADwgwJ4LjTAP5qI2QHPEtA/+5MNU1HJ1z8ZTT7q2B3fP0aFmgwa+eI/ABg/lCAV5j+IQCEcMdboP3fOhmLzMOs/EyzujrQb7T/9Izwlj47uPxccgYyLg+8/g6xao7j27z9mZrL8O+bvP7+X94FZUu8/xVNiW3I97j9RB8Ai+6vsP5FWKYlppOo/oSg6uxkv6D/Th2bxK1blPyZGRbpaJeI/8qg+VZVT3T/4C4p0qOPVP+UppLIiM8w/3FNHxZdVuD/J23zJpD6gv+3ENsZjOcS/wo12/ecH0r/dgWKM2KjZv2MTsJELcOC/83ixWvXH47+358MBZM7mv5eCD4nhdum/rExY6Hq267+TIxAn7YPtvwSssILL1+6/70I4BJ6s77/vOc8G+P7vvzTGy1KGze+/3176khQZ77/C8a4NiuTtvzGcHq/dNOy/l0FFlgER6r+FGZN4xoHnvx8WPFK3keS/Cli7+O1M4b+HQNqEwoHbv9kfIiFb+NO/gKyggGI5yL8EhrXMjDywvyGGtcyMPLA/jqyggGI5yD/gHyIhW/jTP39A2oTCgds/DVi7+O1M4T8bFjxSt5HkP4cZk3jGgec/lUFFlgER6j8ynB6v3TTsP8Hxrg2K5O0/4F76khQZ7z80xstShs3vP+85zwb4/u8/8EI4BJ6s7z8DrLCCy9fuP5UjECftg+0/p0xY6Hq26z+Vgg+J4XbpP7fnwwFkzuY/9nixWvXH4z9dE7CRC3DgP9eBYozYqNk/w412/ecH0j/+xDbGYznEP0/bfMmkPqA/+FNHxZdVuL/UKaSyIjPMv+gLinSo49W/+Kg+VZVT3b8lRkW6WiXiv8+HZvErVuW/pig6uxkv6L+TVimJaaTqv1EHwCL7q+y/xFNiW3I97r/Al/eBWVLvv2Zmsvw75u+/g6xao7j2778YHIGMi4Pvv/sjPCWPju6/EyzujrQb7b94zoZi8zDrv4xAIRwx1ui//Bc/lCAV5r9GhZoMGvnivx9NPurYHd+/65MNU1HJ17+SiNkBzxLQv/GDAnguNMC/B1wUMyamwbw=\"},\"shape\":[100],\"dtype\":\"float64\",\"order\":\"little\"}]]}}},\"view\":{\"type\":\"object\",\"name\":\"CDSView\",\"id\":\"p1056\",\"attributes\":{\"filter\":{\"type\":\"object\",\"name\":\"AllIndices\",\"id\":\"p1057\"}}},\"glyph\":{\"type\":\"object\",\"name\":\"Line\",\"id\":\"p1052\",\"attributes\":{\"x\":{\"type\":\"field\",\"field\":\"x\"},\"y\":{\"type\":\"field\",\"field\":\"y\"},\"line_color\":\"#1f77b4\",\"line_width\":2}},\"nonselection_glyph\":{\"type\":\"object\",\"name\":\"Line\",\"id\":\"p1053\",\"attributes\":{\"x\":{\"type\":\"field\",\"field\":\"x\"},\"y\":{\"type\":\"field\",\"field\":\"y\"},\"line_color\":\"#1f77b4\",\"line_alpha\":0.1,\"line_width\":2}},\"muted_glyph\":{\"type\":\"object\",\"name\":\"Line\",\"id\":\"p1054\",\"attributes\":{\"x\":{\"type\":\"field\",\"field\":\"x\"},\"y\":{\"type\":\"field\",\"field\":\"y\"},\"line_color\":\"#1f77b4\",\"line_alpha\":0.2,\"line_width\":2}}}}],\"toolbar\":{\"type\":\"object\",\"name\":\"Toolbar\",\"id\":\"p1011\",\"attributes\":{\"tools\":[{\"type\":\"object\",\"name\":\"PanTool\",\"id\":\"p1034\"},{\"type\":\"object\",\"name\":\"WheelZoomTool\",\"id\":\"p1035\"},{\"type\":\"object\",\"name\":\"BoxZoomTool\",\"id\":\"p1036\",\"attributes\":{\"overlay\":{\"type\":\"object\",\"name\":\"BoxAnnotation\",\"id\":\"p1037\",\"attributes\":{\"syncable\":false,\"level\":\"overlay\",\"visible\":false,\"left_units\":\"canvas\",\"right_units\":\"canvas\",\"bottom_units\":\"canvas\",\"top_units\":\"canvas\",\"line_color\":\"black\",\"line_alpha\":1.0,\"line_width\":2,\"line_dash\":[4,4],\"fill_color\":\"lightgrey\",\"fill_alpha\":0.5}}}},{\"type\":\"object\",\"name\":\"SaveTool\",\"id\":\"p1038\"},{\"type\":\"object\",\"name\":\"ResetTool\",\"id\":\"p1039\"},{\"type\":\"object\",\"name\":\"HelpTool\",\"id\":\"p1040\"}]}},\"left\":[{\"type\":\"object\",\"name\":\"LinearAxis\",\"id\":\"p1027\",\"attributes\":{\"ticker\":{\"type\":\"object\",\"name\":\"BasicTicker\",\"id\":\"p1029\",\"attributes\":{\"mantissas\":[1,2,5]}},\"formatter\":{\"type\":\"object\",\"name\":\"BasicTickFormatter\",\"id\":\"p1030\"},\"axis_label\":\"Y-axis\",\"major_label_policy\":{\"type\":\"object\",\"name\":\"AllLabels\",\"id\":\"p1028\"}}}],\"below\":[{\"type\":\"object\",\"name\":\"LinearAxis\",\"id\":\"p1020\",\"attributes\":{\"ticker\":{\"type\":\"object\",\"name\":\"BasicTicker\",\"id\":\"p1022\",\"attributes\":{\"mantissas\":[1,2,5]}},\"formatter\":{\"type\":\"object\",\"name\":\"BasicTickFormatter\",\"id\":\"p1023\"},\"axis_label\":\"X-axis\",\"major_label_policy\":{\"type\":\"object\",\"name\":\"AllLabels\",\"id\":\"p1021\"}}}],\"center\":[{\"type\":\"object\",\"name\":\"Grid\",\"id\":\"p1026\",\"attributes\":{\"axis\":{\"id\":\"p1020\"},\"grid_line_color\":\"gray\"}},{\"type\":\"object\",\"name\":\"Grid\",\"id\":\"p1033\",\"attributes\":{\"dimension\":1,\"axis\":{\"id\":\"p1027\"},\"grid_line_color\":\"gray\"}},{\"type\":\"object\",\"name\":\"Legend\",\"id\":\"p1071\",\"attributes\":{\"items\":[{\"type\":\"object\",\"name\":\"LegendItem\",\"id\":\"p1072\",\"attributes\":{\"label\":{\"type\":\"value\",\"value\":\"Sine Wave\"},\"renderers\":[{\"id\":\"p1055\"}]}}]}}]}}]}};\n",
       "  const render_items = [{\"docid\":\"1704eb33-af72-4504-9128-652679fe2630\",\"roots\":{\"p1002\":\"94785ce2-278d-45d5-bf2f-030e2dbc186e\"},\"root_ids\":[\"p1002\"]}];\n",
       "  root.Bokeh.embed.embed_items_notebook(docs_json, render_items);\n",
       "  }\n",
       "  if (root.Bokeh !== undefined) {\n",
       "    embed_document(root);\n",
       "  } else {\n",
       "    let attempts = 0;\n",
       "    const timer = setInterval(function(root) {\n",
       "      if (root.Bokeh !== undefined) {\n",
       "        clearInterval(timer);\n",
       "        embed_document(root);\n",
       "      } else {\n",
       "        attempts++;\n",
       "        if (attempts > 100) {\n",
       "          clearInterval(timer);\n",
       "          console.log(\"Bokeh: ERROR: Unable to run BokehJS code because BokehJS library is missing\");\n",
       "        }\n",
       "      }\n",
       "    }, 10, root)\n",
       "  }\n",
       "})(window);"
      ],
      "application/vnd.bokehjs_exec.v0+json": ""
     },
     "metadata": {
      "application/vnd.bokehjs_exec.v0+json": {
       "id": "p1002"
      }
     },
     "output_type": "display_data"
    }
   ],
   "source": [
    "# 18. With Bokeh, plot a line chart of a sine wave function, add grid lines, label the axes,  \n",
    "#     and set the title as 'Sine Wave Function'.\n",
    "\n",
    "from bokeh.plotting import figure, show, output_notebook\n",
    "import numpy as np\n",
    "\n",
    "# Generating the sine wave data\n",
    "x = np.linspace(0, 4 * np.pi, 100)\n",
    "y = np.sin(x)\n",
    "\n",
    "# Bokeh plot\n",
    "output_notebook()\n",
    "p = figure(title=\"Sine Wave Function\", x_axis_label='X-axis', y_axis_label='Y-axis')\n",
    "\n",
    "# Adding a line to rendere with legend and line thickness\n",
    "p.line(x, y, legend_label=\"Sine Wave\", line_width=2)\n",
    "\n",
    "\n",
    "p.xgrid.grid_line_color = 'gray'\n",
    "p.ygrid.grid_line_color = 'gray'\n",
    "\n",
    "show(p)\n",
    "\n",
    "\n"
   ]
  },
  {
   "cell_type": "code",
   "execution_count": 25,
   "id": "c8b6faa5-4a76-44e2-9088-5296a6b7dea7",
   "metadata": {},
   "outputs": [
    {
     "data": {
      "text/html": [
       "<style>\n",
       "        .bk-notebook-logo {\n",
       "            display: block;\n",
       "            width: 20px;\n",
       "            height: 20px;\n",
       "            background-image: url(data:image/png;base64,iVBORw0KGgoAAAANSUhEUgAAABQAAAAUCAYAAACNiR0NAAAABHNCSVQICAgIfAhkiAAAAAlwSFlzAAALEgAACxIB0t1+/AAAABx0RVh0U29mdHdhcmUAQWRvYmUgRmlyZXdvcmtzIENTNui8sowAAAOkSURBVDiNjZRtaJVlGMd/1/08zzln5zjP1LWcU9N0NkN8m2CYjpgQYQXqSs0I84OLIC0hkEKoPtiH3gmKoiJDU7QpLgoLjLIQCpEsNJ1vqUOdO7ppbuec5+V+rj4ctwzd8IIbbi6u+8f1539dt3A78eXC7QizUF7gyV1fD1Yqg4JWz84yffhm0qkFqBogB9rM8tZdtwVsPUhWhGcFJngGeWrPzHm5oaMmkfEg1usvLFyc8jLRqDOMru7AyC8saQr7GG7f5fvDeH7Ej8CM66nIF+8yngt6HWaKh7k49Soy9nXurCi1o3qUbS3zWfrYeQDTB/Qj6kX6Ybhw4B+bOYoLKCC9H3Nu/leUTZ1JdRWkkn2ldcCamzrcf47KKXdAJllSlxAOkRgyHsGC/zRday5Qld9DyoM4/q/rUoy/CXh3jzOu3bHUVZeU+DEn8FInkPBFlu3+nW3Nw0mk6vCDiWg8CeJaxEwuHS3+z5RgY+YBR6V1Z1nxSOfoaPa4LASWxxdNp+VWTk7+4vzaou8v8PN+xo+KY2xsw6une2frhw05CTYOmQvsEhjhWjn0bmXPjpE1+kplmmkP3suftwTubK9Vq22qKmrBhpY4jvd5afdRA3wGjFAgcnTK2s4hY0/GPNIb0nErGMCRxWOOX64Z8RAC4oCXdklmEvcL8o0BfkNK4lUg9HTl+oPlQxdNo3Mg4Nv175e/1LDGzZen30MEjRUtmXSfiTVu1kK8W4txyV6BMKlbgk3lMwYCiusNy9fVfvvwMxv8Ynl6vxoByANLTWplvuj/nF9m2+PDtt1eiHPBr1oIfhCChQMBw6Aw0UulqTKZdfVvfG7VcfIqLG9bcldL/+pdWTLxLUy8Qq38heUIjh4XlzZxzQm19lLFlr8vdQ97rjZVOLf8nclzckbcD4wxXMidpX30sFd37Fv/GtwwhzhxGVAprjbg0gCAEeIgwCZyTV2Z1REEW8O4py0wsjeloKoMr6iCY6dP92H6Vw/oTyICIthibxjm/DfN9lVz8IqtqKYLUXfoKVMVQVVJOElGjrnnUt9T9wbgp8AyYKaGlqingHZU/uG2NTZSVqwHQTWkx9hxjkpWDaCg6Ckj5qebgBVbT3V3NNXMSiWSDdGV3hrtzla7J+duwPOToIg42ChPQOQjspnSlp1V+Gjdged7+8UN5CRAV7a5EdFNwCjEaBR27b3W890TE7g24NAP/mMDXRWrGoFPQI9ls/MWO2dWFAar/xcOIImbbpA3zgAAAABJRU5ErkJggg==);\n",
       "        }\n",
       "    </style>\n",
       "    <div>\n",
       "        <a href=\"https://bokeh.org\" target=\"_blank\" class=\"bk-notebook-logo\"></a>\n",
       "        <span id=\"p1156\">Loading BokehJS ...</span>\n",
       "    </div>\n"
      ]
     },
     "metadata": {},
     "output_type": "display_data"
    },
    {
     "data": {
      "application/javascript": [
       "(function(root) {\n",
       "  function now() {\n",
       "    return new Date();\n",
       "  }\n",
       "\n",
       "  const force = true;\n",
       "\n",
       "  if (typeof root._bokeh_onload_callbacks === \"undefined\" || force === true) {\n",
       "    root._bokeh_onload_callbacks = [];\n",
       "    root._bokeh_is_loading = undefined;\n",
       "  }\n",
       "\n",
       "const JS_MIME_TYPE = 'application/javascript';\n",
       "  const HTML_MIME_TYPE = 'text/html';\n",
       "  const EXEC_MIME_TYPE = 'application/vnd.bokehjs_exec.v0+json';\n",
       "  const CLASS_NAME = 'output_bokeh rendered_html';\n",
       "\n",
       "  /**\n",
       "   * Render data to the DOM node\n",
       "   */\n",
       "  function render(props, node) {\n",
       "    const script = document.createElement(\"script\");\n",
       "    node.appendChild(script);\n",
       "  }\n",
       "\n",
       "  /**\n",
       "   * Handle when an output is cleared or removed\n",
       "   */\n",
       "  function handleClearOutput(event, handle) {\n",
       "    const cell = handle.cell;\n",
       "\n",
       "    const id = cell.output_area._bokeh_element_id;\n",
       "    const server_id = cell.output_area._bokeh_server_id;\n",
       "    // Clean up Bokeh references\n",
       "    if (id != null && id in Bokeh.index) {\n",
       "      Bokeh.index[id].model.document.clear();\n",
       "      delete Bokeh.index[id];\n",
       "    }\n",
       "\n",
       "    if (server_id !== undefined) {\n",
       "      // Clean up Bokeh references\n",
       "      const cmd_clean = \"from bokeh.io.state import curstate; print(curstate().uuid_to_server['\" + server_id + \"'].get_sessions()[0].document.roots[0]._id)\";\n",
       "      cell.notebook.kernel.execute(cmd_clean, {\n",
       "        iopub: {\n",
       "          output: function(msg) {\n",
       "            const id = msg.content.text.trim();\n",
       "            if (id in Bokeh.index) {\n",
       "              Bokeh.index[id].model.document.clear();\n",
       "              delete Bokeh.index[id];\n",
       "            }\n",
       "          }\n",
       "        }\n",
       "      });\n",
       "      // Destroy server and session\n",
       "      const cmd_destroy = \"import bokeh.io.notebook as ion; ion.destroy_server('\" + server_id + \"')\";\n",
       "      cell.notebook.kernel.execute(cmd_destroy);\n",
       "    }\n",
       "  }\n",
       "\n",
       "  /**\n",
       "   * Handle when a new output is added\n",
       "   */\n",
       "  function handleAddOutput(event, handle) {\n",
       "    const output_area = handle.output_area;\n",
       "    const output = handle.output;\n",
       "\n",
       "    // limit handleAddOutput to display_data with EXEC_MIME_TYPE content only\n",
       "    if ((output.output_type != \"display_data\") || (!Object.prototype.hasOwnProperty.call(output.data, EXEC_MIME_TYPE))) {\n",
       "      return\n",
       "    }\n",
       "\n",
       "    const toinsert = output_area.element.find(\".\" + CLASS_NAME.split(' ')[0]);\n",
       "\n",
       "    if (output.metadata[EXEC_MIME_TYPE][\"id\"] !== undefined) {\n",
       "      toinsert[toinsert.length - 1].firstChild.textContent = output.data[JS_MIME_TYPE];\n",
       "      // store reference to embed id on output_area\n",
       "      output_area._bokeh_element_id = output.metadata[EXEC_MIME_TYPE][\"id\"];\n",
       "    }\n",
       "    if (output.metadata[EXEC_MIME_TYPE][\"server_id\"] !== undefined) {\n",
       "      const bk_div = document.createElement(\"div\");\n",
       "      bk_div.innerHTML = output.data[HTML_MIME_TYPE];\n",
       "      const script_attrs = bk_div.children[0].attributes;\n",
       "      for (let i = 0; i < script_attrs.length; i++) {\n",
       "        toinsert[toinsert.length - 1].firstChild.setAttribute(script_attrs[i].name, script_attrs[i].value);\n",
       "        toinsert[toinsert.length - 1].firstChild.textContent = bk_div.children[0].textContent\n",
       "      }\n",
       "      // store reference to server id on output_area\n",
       "      output_area._bokeh_server_id = output.metadata[EXEC_MIME_TYPE][\"server_id\"];\n",
       "    }\n",
       "  }\n",
       "\n",
       "  function register_renderer(events, OutputArea) {\n",
       "\n",
       "    function append_mime(data, metadata, element) {\n",
       "      // create a DOM node to render to\n",
       "      const toinsert = this.create_output_subarea(\n",
       "        metadata,\n",
       "        CLASS_NAME,\n",
       "        EXEC_MIME_TYPE\n",
       "      );\n",
       "      this.keyboard_manager.register_events(toinsert);\n",
       "      // Render to node\n",
       "      const props = {data: data, metadata: metadata[EXEC_MIME_TYPE]};\n",
       "      render(props, toinsert[toinsert.length - 1]);\n",
       "      element.append(toinsert);\n",
       "      return toinsert\n",
       "    }\n",
       "\n",
       "    /* Handle when an output is cleared or removed */\n",
       "    events.on('clear_output.CodeCell', handleClearOutput);\n",
       "    events.on('delete.Cell', handleClearOutput);\n",
       "\n",
       "    /* Handle when a new output is added */\n",
       "    events.on('output_added.OutputArea', handleAddOutput);\n",
       "\n",
       "    /**\n",
       "     * Register the mime type and append_mime function with output_area\n",
       "     */\n",
       "    OutputArea.prototype.register_mime_type(EXEC_MIME_TYPE, append_mime, {\n",
       "      /* Is output safe? */\n",
       "      safe: true,\n",
       "      /* Index of renderer in `output_area.display_order` */\n",
       "      index: 0\n",
       "    });\n",
       "  }\n",
       "\n",
       "  // register the mime type if in Jupyter Notebook environment and previously unregistered\n",
       "  if (root.Jupyter !== undefined) {\n",
       "    const events = require('base/js/events');\n",
       "    const OutputArea = require('notebook/js/outputarea').OutputArea;\n",
       "\n",
       "    if (OutputArea.prototype.mime_types().indexOf(EXEC_MIME_TYPE) == -1) {\n",
       "      register_renderer(events, OutputArea);\n",
       "    }\n",
       "  }\n",
       "  if (typeof (root._bokeh_timeout) === \"undefined\" || force === true) {\n",
       "    root._bokeh_timeout = Date.now() + 5000;\n",
       "    root._bokeh_failed_load = false;\n",
       "  }\n",
       "\n",
       "  const NB_LOAD_WARNING = {'data': {'text/html':\n",
       "     \"<div style='background-color: #fdd'>\\n\"+\n",
       "     \"<p>\\n\"+\n",
       "     \"BokehJS does not appear to have successfully loaded. If loading BokehJS from CDN, this \\n\"+\n",
       "     \"may be due to a slow or bad network connection. Possible fixes:\\n\"+\n",
       "     \"</p>\\n\"+\n",
       "     \"<ul>\\n\"+\n",
       "     \"<li>re-rerun `output_notebook()` to attempt to load from CDN again, or</li>\\n\"+\n",
       "     \"<li>use INLINE resources instead, as so:</li>\\n\"+\n",
       "     \"</ul>\\n\"+\n",
       "     \"<code>\\n\"+\n",
       "     \"from bokeh.resources import INLINE\\n\"+\n",
       "     \"output_notebook(resources=INLINE)\\n\"+\n",
       "     \"</code>\\n\"+\n",
       "     \"</div>\"}};\n",
       "\n",
       "  function display_loaded() {\n",
       "    const el = document.getElementById(\"p1156\");\n",
       "    if (el != null) {\n",
       "      el.textContent = \"BokehJS is loading...\";\n",
       "    }\n",
       "    if (root.Bokeh !== undefined) {\n",
       "      if (el != null) {\n",
       "        el.textContent = \"BokehJS \" + root.Bokeh.version + \" successfully loaded.\";\n",
       "      }\n",
       "    } else if (Date.now() < root._bokeh_timeout) {\n",
       "      setTimeout(display_loaded, 100)\n",
       "    }\n",
       "  }\n",
       "\n",
       "  function run_callbacks() {\n",
       "    try {\n",
       "      root._bokeh_onload_callbacks.forEach(function(callback) {\n",
       "        if (callback != null)\n",
       "          callback();\n",
       "      });\n",
       "    } finally {\n",
       "      delete root._bokeh_onload_callbacks\n",
       "    }\n",
       "    console.debug(\"Bokeh: all callbacks have finished\");\n",
       "  }\n",
       "\n",
       "  function load_libs(css_urls, js_urls, callback) {\n",
       "    if (css_urls == null) css_urls = [];\n",
       "    if (js_urls == null) js_urls = [];\n",
       "\n",
       "    root._bokeh_onload_callbacks.push(callback);\n",
       "    if (root._bokeh_is_loading > 0) {\n",
       "      console.debug(\"Bokeh: BokehJS is being loaded, scheduling callback at\", now());\n",
       "      return null;\n",
       "    }\n",
       "    if (js_urls == null || js_urls.length === 0) {\n",
       "      run_callbacks();\n",
       "      return null;\n",
       "    }\n",
       "    console.debug(\"Bokeh: BokehJS not loaded, scheduling load and callback at\", now());\n",
       "    root._bokeh_is_loading = css_urls.length + js_urls.length;\n",
       "\n",
       "    function on_load() {\n",
       "      root._bokeh_is_loading--;\n",
       "      if (root._bokeh_is_loading === 0) {\n",
       "        console.debug(\"Bokeh: all BokehJS libraries/stylesheets loaded\");\n",
       "        run_callbacks()\n",
       "      }\n",
       "    }\n",
       "\n",
       "    function on_error(url) {\n",
       "      console.error(\"failed to load \" + url);\n",
       "    }\n",
       "\n",
       "    for (let i = 0; i < css_urls.length; i++) {\n",
       "      const url = css_urls[i];\n",
       "      const element = document.createElement(\"link\");\n",
       "      element.onload = on_load;\n",
       "      element.onerror = on_error.bind(null, url);\n",
       "      element.rel = \"stylesheet\";\n",
       "      element.type = \"text/css\";\n",
       "      element.href = url;\n",
       "      console.debug(\"Bokeh: injecting link tag for BokehJS stylesheet: \", url);\n",
       "      document.body.appendChild(element);\n",
       "    }\n",
       "\n",
       "    for (let i = 0; i < js_urls.length; i++) {\n",
       "      const url = js_urls[i];\n",
       "      const element = document.createElement('script');\n",
       "      element.onload = on_load;\n",
       "      element.onerror = on_error.bind(null, url);\n",
       "      element.async = false;\n",
       "      element.src = url;\n",
       "      console.debug(\"Bokeh: injecting script tag for BokehJS library: \", url);\n",
       "      document.head.appendChild(element);\n",
       "    }\n",
       "  };\n",
       "\n",
       "  function inject_raw_css(css) {\n",
       "    const element = document.createElement(\"style\");\n",
       "    element.appendChild(document.createTextNode(css));\n",
       "    document.body.appendChild(element);\n",
       "  }\n",
       "\n",
       "  const js_urls = [\"https://cdn.bokeh.org/bokeh/release/bokeh-3.0.3.min.js\", \"https://cdn.bokeh.org/bokeh/release/bokeh-gl-3.0.3.min.js\", \"https://cdn.bokeh.org/bokeh/release/bokeh-widgets-3.0.3.min.js\", \"https://cdn.bokeh.org/bokeh/release/bokeh-tables-3.0.3.min.js\", \"https://cdn.bokeh.org/bokeh/release/bokeh-mathjax-3.0.3.min.js\"];\n",
       "  const css_urls = [];\n",
       "\n",
       "  const inline_js = [    function(Bokeh) {\n",
       "      Bokeh.set_log_level(\"info\");\n",
       "    },\n",
       "function(Bokeh) {\n",
       "    }\n",
       "  ];\n",
       "\n",
       "  function run_inline_js() {\n",
       "    if (root.Bokeh !== undefined || force === true) {\n",
       "          for (let i = 0; i < inline_js.length; i++) {\n",
       "      inline_js[i].call(root, root.Bokeh);\n",
       "    }\n",
       "if (force === true) {\n",
       "        display_loaded();\n",
       "      }} else if (Date.now() < root._bokeh_timeout) {\n",
       "      setTimeout(run_inline_js, 100);\n",
       "    } else if (!root._bokeh_failed_load) {\n",
       "      console.log(\"Bokeh: BokehJS failed to load within specified timeout.\");\n",
       "      root._bokeh_failed_load = true;\n",
       "    } else if (force !== true) {\n",
       "      const cell = $(document.getElementById(\"p1156\")).parents('.cell').data().cell;\n",
       "      cell.output_area.append_execute_result(NB_LOAD_WARNING)\n",
       "    }\n",
       "  }\n",
       "\n",
       "  if (root._bokeh_is_loading === 0) {\n",
       "    console.debug(\"Bokeh: BokehJS loaded, going straight to plotting\");\n",
       "    run_inline_js();\n",
       "  } else {\n",
       "    load_libs(css_urls, js_urls, function() {\n",
       "      console.debug(\"Bokeh: BokehJS plotting callback run at\", now());\n",
       "      run_inline_js();\n",
       "    });\n",
       "  }\n",
       "}(window));"
      ],
      "application/vnd.bokehjs_load.v0+json": "(function(root) {\n  function now() {\n    return new Date();\n  }\n\n  const force = true;\n\n  if (typeof root._bokeh_onload_callbacks === \"undefined\" || force === true) {\n    root._bokeh_onload_callbacks = [];\n    root._bokeh_is_loading = undefined;\n  }\n\n\n  if (typeof (root._bokeh_timeout) === \"undefined\" || force === true) {\n    root._bokeh_timeout = Date.now() + 5000;\n    root._bokeh_failed_load = false;\n  }\n\n  const NB_LOAD_WARNING = {'data': {'text/html':\n     \"<div style='background-color: #fdd'>\\n\"+\n     \"<p>\\n\"+\n     \"BokehJS does not appear to have successfully loaded. If loading BokehJS from CDN, this \\n\"+\n     \"may be due to a slow or bad network connection. Possible fixes:\\n\"+\n     \"</p>\\n\"+\n     \"<ul>\\n\"+\n     \"<li>re-rerun `output_notebook()` to attempt to load from CDN again, or</li>\\n\"+\n     \"<li>use INLINE resources instead, as so:</li>\\n\"+\n     \"</ul>\\n\"+\n     \"<code>\\n\"+\n     \"from bokeh.resources import INLINE\\n\"+\n     \"output_notebook(resources=INLINE)\\n\"+\n     \"</code>\\n\"+\n     \"</div>\"}};\n\n  function display_loaded() {\n    const el = document.getElementById(\"p1156\");\n    if (el != null) {\n      el.textContent = \"BokehJS is loading...\";\n    }\n    if (root.Bokeh !== undefined) {\n      if (el != null) {\n        el.textContent = \"BokehJS \" + root.Bokeh.version + \" successfully loaded.\";\n      }\n    } else if (Date.now() < root._bokeh_timeout) {\n      setTimeout(display_loaded, 100)\n    }\n  }\n\n  function run_callbacks() {\n    try {\n      root._bokeh_onload_callbacks.forEach(function(callback) {\n        if (callback != null)\n          callback();\n      });\n    } finally {\n      delete root._bokeh_onload_callbacks\n    }\n    console.debug(\"Bokeh: all callbacks have finished\");\n  }\n\n  function load_libs(css_urls, js_urls, callback) {\n    if (css_urls == null) css_urls = [];\n    if (js_urls == null) js_urls = [];\n\n    root._bokeh_onload_callbacks.push(callback);\n    if (root._bokeh_is_loading > 0) {\n      console.debug(\"Bokeh: BokehJS is being loaded, scheduling callback at\", now());\n      return null;\n    }\n    if (js_urls == null || js_urls.length === 0) {\n      run_callbacks();\n      return null;\n    }\n    console.debug(\"Bokeh: BokehJS not loaded, scheduling load and callback at\", now());\n    root._bokeh_is_loading = css_urls.length + js_urls.length;\n\n    function on_load() {\n      root._bokeh_is_loading--;\n      if (root._bokeh_is_loading === 0) {\n        console.debug(\"Bokeh: all BokehJS libraries/stylesheets loaded\");\n        run_callbacks()\n      }\n    }\n\n    function on_error(url) {\n      console.error(\"failed to load \" + url);\n    }\n\n    for (let i = 0; i < css_urls.length; i++) {\n      const url = css_urls[i];\n      const element = document.createElement(\"link\");\n      element.onload = on_load;\n      element.onerror = on_error.bind(null, url);\n      element.rel = \"stylesheet\";\n      element.type = \"text/css\";\n      element.href = url;\n      console.debug(\"Bokeh: injecting link tag for BokehJS stylesheet: \", url);\n      document.body.appendChild(element);\n    }\n\n    for (let i = 0; i < js_urls.length; i++) {\n      const url = js_urls[i];\n      const element = document.createElement('script');\n      element.onload = on_load;\n      element.onerror = on_error.bind(null, url);\n      element.async = false;\n      element.src = url;\n      console.debug(\"Bokeh: injecting script tag for BokehJS library: \", url);\n      document.head.appendChild(element);\n    }\n  };\n\n  function inject_raw_css(css) {\n    const element = document.createElement(\"style\");\n    element.appendChild(document.createTextNode(css));\n    document.body.appendChild(element);\n  }\n\n  const js_urls = [\"https://cdn.bokeh.org/bokeh/release/bokeh-3.0.3.min.js\", \"https://cdn.bokeh.org/bokeh/release/bokeh-gl-3.0.3.min.js\", \"https://cdn.bokeh.org/bokeh/release/bokeh-widgets-3.0.3.min.js\", \"https://cdn.bokeh.org/bokeh/release/bokeh-tables-3.0.3.min.js\", \"https://cdn.bokeh.org/bokeh/release/bokeh-mathjax-3.0.3.min.js\"];\n  const css_urls = [];\n\n  const inline_js = [    function(Bokeh) {\n      Bokeh.set_log_level(\"info\");\n    },\nfunction(Bokeh) {\n    }\n  ];\n\n  function run_inline_js() {\n    if (root.Bokeh !== undefined || force === true) {\n          for (let i = 0; i < inline_js.length; i++) {\n      inline_js[i].call(root, root.Bokeh);\n    }\nif (force === true) {\n        display_loaded();\n      }} else if (Date.now() < root._bokeh_timeout) {\n      setTimeout(run_inline_js, 100);\n    } else if (!root._bokeh_failed_load) {\n      console.log(\"Bokeh: BokehJS failed to load within specified timeout.\");\n      root._bokeh_failed_load = true;\n    } else if (force !== true) {\n      const cell = $(document.getElementById(\"p1156\")).parents('.cell').data().cell;\n      cell.output_area.append_execute_result(NB_LOAD_WARNING)\n    }\n  }\n\n  if (root._bokeh_is_loading === 0) {\n    console.debug(\"Bokeh: BokehJS loaded, going straight to plotting\");\n    run_inline_js();\n  } else {\n    load_libs(css_urls, js_urls, function() {\n      console.debug(\"Bokeh: BokehJS plotting callback run at\", now());\n      run_inline_js();\n    });\n  }\n}(window));"
     },
     "metadata": {},
     "output_type": "display_data"
    },
    {
     "data": {
      "text/html": [
       "\n",
       "  <div id=\"fddb8485-6679-4ec3-bb7f-2cc8b4017a68\" data-root-id=\"p1160\" style=\"display: contents;\"></div>\n"
      ]
     },
     "metadata": {},
     "output_type": "display_data"
    },
    {
     "data": {
      "application/javascript": [
       "(function(root) {\n",
       "  function embed_document(root) {\n",
       "  const docs_json = {\"d1d55d7f-6489-4c82-b700-99a8a414c011\":{\"version\":\"3.0.3\",\"title\":\"Bokeh Application\",\"defs\":[],\"roots\":[{\"type\":\"object\",\"name\":\"Figure\",\"id\":\"p1160\",\"attributes\":{\"x_range\":{\"type\":\"object\",\"name\":\"FactorRange\",\"id\":\"p1170\",\"attributes\":{\"factors\":[\"Category A\",\"Category B\",\"Category C\",\"Category D\",\"Category E\"]}},\"y_range\":{\"type\":\"object\",\"name\":\"DataRange1d\",\"id\":\"p1162\"},\"x_scale\":{\"type\":\"object\",\"name\":\"CategoricalScale\",\"id\":\"p1174\"},\"y_scale\":{\"type\":\"object\",\"name\":\"LinearScale\",\"id\":\"p1176\"},\"title\":{\"type\":\"object\",\"name\":\"Title\",\"id\":\"p1163\",\"attributes\":{\"text\":\"Random Categorical Bar Chart\"}},\"renderers\":[{\"type\":\"object\",\"name\":\"GlyphRenderer\",\"id\":\"p1199\",\"attributes\":{\"data_source\":{\"type\":\"object\",\"name\":\"ColumnDataSource\",\"id\":\"p1157\",\"attributes\":{\"selected\":{\"type\":\"object\",\"name\":\"Selection\",\"id\":\"p1159\",\"attributes\":{\"indices\":[],\"line_indices\":[]}},\"selection_policy\":{\"type\":\"object\",\"name\":\"UnionRenderers\",\"id\":\"p1158\"},\"data\":{\"type\":\"map\",\"entries\":[[\"index\",{\"type\":\"ndarray\",\"array\":{\"type\":\"bytes\",\"data\":\"AAAAAAEAAAACAAAAAwAAAAQAAAA=\"},\"shape\":[5],\"dtype\":\"int32\",\"order\":\"little\"}],[\"Category\",{\"type\":\"ndarray\",\"array\":[\"Category A\",\"Category B\",\"Category C\",\"Category D\",\"Category E\"],\"shape\":[5],\"dtype\":\"object\",\"order\":\"little\"}],[\"Value\",{\"type\":\"ndarray\",\"array\":{\"type\":\"bytes\",\"data\":\"NAAAABIAAABMAAAAGgAAACMAAAA=\"},\"shape\":[5],\"dtype\":\"int32\",\"order\":\"little\"}]]}}},\"view\":{\"type\":\"object\",\"name\":\"CDSView\",\"id\":\"p1200\",\"attributes\":{\"filter\":{\"type\":\"object\",\"name\":\"AllIndices\",\"id\":\"p1201\"}}},\"glyph\":{\"type\":\"object\",\"name\":\"VBar\",\"id\":\"p1196\",\"attributes\":{\"x\":{\"type\":\"field\",\"field\":\"Category\"},\"width\":{\"type\":\"value\",\"value\":0.9},\"top\":{\"type\":\"field\",\"field\":\"Value\"},\"line_color\":{\"type\":\"value\",\"value\":\"white\"},\"fill_color\":{\"type\":\"field\",\"field\":\"Category\",\"transform\":{\"type\":\"object\",\"name\":\"CategoricalColorMapper\",\"id\":\"p1192\",\"attributes\":{\"palette\":[\"#440154\",\"#440255\",\"#440357\",\"#450558\",\"#45065A\",\"#45085B\",\"#46095C\",\"#460B5E\",\"#460C5F\",\"#460E61\",\"#470F62\",\"#471163\",\"#471265\",\"#471466\",\"#471567\",\"#471669\",\"#47186A\",\"#48196B\",\"#481A6C\",\"#481C6E\",\"#481D6F\",\"#481E70\",\"#482071\",\"#482172\",\"#482273\",\"#482374\",\"#472575\",\"#472676\",\"#472777\",\"#472878\",\"#472A79\",\"#472B7A\",\"#472C7B\",\"#462D7C\",\"#462F7C\",\"#46307D\",\"#46317E\",\"#45327F\",\"#45347F\",\"#453580\",\"#453681\",\"#443781\",\"#443982\",\"#433A83\",\"#433B83\",\"#433C84\",\"#423D84\",\"#423E85\",\"#424085\",\"#414186\",\"#414286\",\"#404387\",\"#404487\",\"#3F4587\",\"#3F4788\",\"#3E4888\",\"#3E4989\",\"#3D4A89\",\"#3D4B89\",\"#3D4C89\",\"#3C4D8A\",\"#3C4E8A\",\"#3B508A\",\"#3B518A\",\"#3A528B\",\"#3A538B\",\"#39548B\",\"#39558B\",\"#38568B\",\"#38578C\",\"#37588C\",\"#37598C\",\"#365A8C\",\"#365B8C\",\"#355C8C\",\"#355D8C\",\"#345E8D\",\"#345F8D\",\"#33608D\",\"#33618D\",\"#32628D\",\"#32638D\",\"#31648D\",\"#31658D\",\"#31668D\",\"#30678D\",\"#30688D\",\"#2F698D\",\"#2F6A8D\",\"#2E6B8E\",\"#2E6C8E\",\"#2E6D8E\",\"#2D6E8E\",\"#2D6F8E\",\"#2C708E\",\"#2C718E\",\"#2C728E\",\"#2B738E\",\"#2B748E\",\"#2A758E\",\"#2A768E\",\"#2A778E\",\"#29788E\",\"#29798E\",\"#287A8E\",\"#287A8E\",\"#287B8E\",\"#277C8E\",\"#277D8E\",\"#277E8E\",\"#267F8E\",\"#26808E\",\"#26818E\",\"#25828E\",\"#25838D\",\"#24848D\",\"#24858D\",\"#24868D\",\"#23878D\",\"#23888D\",\"#23898D\",\"#22898D\",\"#228A8D\",\"#228B8D\",\"#218C8D\",\"#218D8C\",\"#218E8C\",\"#208F8C\",\"#20908C\",\"#20918C\",\"#1F928C\",\"#1F938B\",\"#1F948B\",\"#1F958B\",\"#1F968B\",\"#1E978A\",\"#1E988A\",\"#1E998A\",\"#1E998A\",\"#1E9A89\",\"#1E9B89\",\"#1E9C89\",\"#1E9D88\",\"#1E9E88\",\"#1E9F88\",\"#1EA087\",\"#1FA187\",\"#1FA286\",\"#1FA386\",\"#20A485\",\"#20A585\",\"#21A685\",\"#21A784\",\"#22A784\",\"#23A883\",\"#23A982\",\"#24AA82\",\"#25AB81\",\"#26AC81\",\"#27AD80\",\"#28AE7F\",\"#29AF7F\",\"#2AB07E\",\"#2BB17D\",\"#2CB17D\",\"#2EB27C\",\"#2FB37B\",\"#30B47A\",\"#32B57A\",\"#33B679\",\"#35B778\",\"#36B877\",\"#38B976\",\"#39B976\",\"#3BBA75\",\"#3DBB74\",\"#3EBC73\",\"#40BD72\",\"#42BE71\",\"#44BE70\",\"#45BF6F\",\"#47C06E\",\"#49C16D\",\"#4BC26C\",\"#4DC26B\",\"#4FC369\",\"#51C468\",\"#53C567\",\"#55C666\",\"#57C665\",\"#59C764\",\"#5BC862\",\"#5EC961\",\"#60C960\",\"#62CA5F\",\"#64CB5D\",\"#67CC5C\",\"#69CC5B\",\"#6BCD59\",\"#6DCE58\",\"#70CE56\",\"#72CF55\",\"#74D054\",\"#77D052\",\"#79D151\",\"#7CD24F\",\"#7ED24E\",\"#81D34C\",\"#83D34B\",\"#86D449\",\"#88D547\",\"#8BD546\",\"#8DD644\",\"#90D643\",\"#92D741\",\"#95D73F\",\"#97D83E\",\"#9AD83C\",\"#9DD93A\",\"#9FD938\",\"#A2DA37\",\"#A5DA35\",\"#A7DB33\",\"#AADB32\",\"#ADDC30\",\"#AFDC2E\",\"#B2DD2C\",\"#B5DD2B\",\"#B7DD29\",\"#BADE27\",\"#BDDE26\",\"#BFDF24\",\"#C2DF22\",\"#C5DF21\",\"#C7E01F\",\"#CAE01E\",\"#CDE01D\",\"#CFE11C\",\"#D2E11B\",\"#D4E11A\",\"#D7E219\",\"#DAE218\",\"#DCE218\",\"#DFE318\",\"#E1E318\",\"#E4E318\",\"#E7E419\",\"#E9E419\",\"#ECE41A\",\"#EEE51B\",\"#F1E51C\",\"#F3E51E\",\"#F6E61F\",\"#F8E621\",\"#FAE622\",\"#FDE724\"],\"factors\":[\"Category A\",\"Category B\",\"Category C\",\"Category D\",\"Category E\"]}}}}},\"nonselection_glyph\":{\"type\":\"object\",\"name\":\"VBar\",\"id\":\"p1197\",\"attributes\":{\"x\":{\"type\":\"field\",\"field\":\"Category\"},\"width\":{\"type\":\"value\",\"value\":0.9},\"top\":{\"type\":\"field\",\"field\":\"Value\"},\"line_color\":{\"type\":\"value\",\"value\":\"white\"},\"line_alpha\":{\"type\":\"value\",\"value\":0.1},\"fill_color\":{\"type\":\"field\",\"field\":\"Category\",\"transform\":{\"id\":\"p1192\"}},\"fill_alpha\":{\"type\":\"value\",\"value\":0.1},\"hatch_alpha\":{\"type\":\"value\",\"value\":0.1}}},\"muted_glyph\":{\"type\":\"object\",\"name\":\"VBar\",\"id\":\"p1198\",\"attributes\":{\"x\":{\"type\":\"field\",\"field\":\"Category\"},\"width\":{\"type\":\"value\",\"value\":0.9},\"top\":{\"type\":\"field\",\"field\":\"Value\"},\"line_color\":{\"type\":\"value\",\"value\":\"white\"},\"line_alpha\":{\"type\":\"value\",\"value\":0.2},\"fill_color\":{\"type\":\"field\",\"field\":\"Category\",\"transform\":{\"id\":\"p1192\"}},\"fill_alpha\":{\"type\":\"value\",\"value\":0.2},\"hatch_alpha\":{\"type\":\"value\",\"value\":0.2}}}}}],\"toolbar\":{\"type\":\"object\",\"name\":\"Toolbar\",\"id\":\"p1169\",\"attributes\":{\"tools\":[{\"type\":\"object\",\"name\":\"HoverTool\",\"id\":\"p1216\",\"attributes\":{\"renderers\":\"auto\",\"tooltips\":[[\"Category\",\"@Category\"],[\"Value\",\"@Value\"]]}}]}},\"left\":[{\"type\":\"object\",\"name\":\"LinearAxis\",\"id\":\"p1184\",\"attributes\":{\"ticker\":{\"type\":\"object\",\"name\":\"BasicTicker\",\"id\":\"p1186\",\"attributes\":{\"mantissas\":[1,2,5]}},\"formatter\":{\"type\":\"object\",\"name\":\"BasicTickFormatter\",\"id\":\"p1187\"},\"axis_label\":\"Value\",\"major_label_policy\":{\"type\":\"object\",\"name\":\"AllLabels\",\"id\":\"p1185\"}}}],\"below\":[{\"type\":\"object\",\"name\":\"CategoricalAxis\",\"id\":\"p1178\",\"attributes\":{\"ticker\":{\"type\":\"object\",\"name\":\"CategoricalTicker\",\"id\":\"p1180\"},\"formatter\":{\"type\":\"object\",\"name\":\"CategoricalTickFormatter\",\"id\":\"p1181\"},\"axis_label\":\"Category\",\"major_label_policy\":{\"type\":\"object\",\"name\":\"AllLabels\",\"id\":\"p1179\"}}}],\"center\":[{\"type\":\"object\",\"name\":\"Grid\",\"id\":\"p1183\",\"attributes\":{\"axis\":{\"id\":\"p1178\"}}},{\"type\":\"object\",\"name\":\"Grid\",\"id\":\"p1190\",\"attributes\":{\"dimension\":1,\"axis\":{\"id\":\"p1184\"}}},{\"type\":\"object\",\"name\":\"Legend\",\"id\":\"p1214\",\"attributes\":{\"items\":[{\"type\":\"object\",\"name\":\"LegendItem\",\"id\":\"p1215\",\"attributes\":{\"label\":{\"type\":\"field\",\"field\":\"Category\"},\"renderers\":[{\"id\":\"p1199\"}]}}]}}]}}]}};\n",
       "  const render_items = [{\"docid\":\"d1d55d7f-6489-4c82-b700-99a8a414c011\",\"roots\":{\"p1160\":\"fddb8485-6679-4ec3-bb7f-2cc8b4017a68\"},\"root_ids\":[\"p1160\"]}];\n",
       "  root.Bokeh.embed.embed_items_notebook(docs_json, render_items);\n",
       "  }\n",
       "  if (root.Bokeh !== undefined) {\n",
       "    embed_document(root);\n",
       "  } else {\n",
       "    let attempts = 0;\n",
       "    const timer = setInterval(function(root) {\n",
       "      if (root.Bokeh !== undefined) {\n",
       "        clearInterval(timer);\n",
       "        embed_document(root);\n",
       "      } else {\n",
       "        attempts++;\n",
       "        if (attempts > 100) {\n",
       "          clearInterval(timer);\n",
       "          console.log(\"Bokeh: ERROR: Unable to run BokehJS code because BokehJS library is missing\");\n",
       "        }\n",
       "      }\n",
       "    }, 10, root)\n",
       "  }\n",
       "})(window);"
      ],
      "application/vnd.bokehjs_exec.v0+json": ""
     },
     "metadata": {
      "application/vnd.bokehjs_exec.v0+json": {
       "id": "p1160"
      }
     },
     "output_type": "display_data"
    }
   ],
   "source": [
    "\n",
    "# 19. Using Bokeh, generate a bar chart of randomly generated categorical data, color bars based on their \n",
    "#     values, add hover tooltips to display exact values, label the axes, and set the title as 'Random Categorical Bar Chart'\n",
    "\n",
    "\n",
    "\n",
    "import numpy as np\n",
    "import pandas as pd\n",
    "from bokeh.plotting import figure, show, output_notebook\n",
    "from bokeh.models import ColumnDataSource, HoverTool\n",
    "from bokeh.transform import factor_cmap\n",
    "from bokeh.palettes import Viridis256\n",
    "\n",
    "\n",
    "output_notebook()\n",
    "\n",
    "# Generating random categorical data.\n",
    "categories = ['Category A', 'Category B', 'Category C', 'Category D', 'Category E']\n",
    "values = np.random.randint(1, 100, size=len(categories))\n",
    "\n",
    "# Creating a DataFrame\n",
    "df = pd.DataFrame({'Category': categories, 'Value': values})\n",
    "\n",
    "# Creating a ColumnDataSource\n",
    "source = ColumnDataSource(df)\n",
    "\n",
    "\n",
    "p = figure(x_range=categories, title=\"Random Categorical Bar Chart\", x_axis_label='Category', y_axis_label='Value', tools=\"\")\n",
    "\n",
    "# Adding bars\n",
    "p.vbar(x='Category', top='Value', width=0.9, source=source, legend_field=\"Category\",\n",
    "       line_color='white', fill_color=factor_cmap('Category', palette=Viridis256, factors=categories))\n",
    "\n",
    "\n",
    "hover = HoverTool()\n",
    "hover.tooltips = [(\"Category\", \"@Category\"), (\"Value\", \"@Value\")]\n",
    "p.add_tools(hover)\n",
    "\n",
    "# Show the plot\n",
    "show(p)\n"
   ]
  },
  {
   "cell_type": "code",
   "execution_count": 26,
   "id": "98ed2ea3-1bce-4881-b2fb-5c6292ac76dc",
   "metadata": {},
   "outputs": [
    {
     "name": "stdout",
     "output_type": "stream",
     "text": [
      "Requirement already satisfied: plotly in /opt/conda/lib/python3.10/site-packages (5.22.0)\n",
      "Requirement already satisfied: packaging in /opt/conda/lib/python3.10/site-packages (from plotly) (22.0)\n",
      "Requirement already satisfied: tenacity>=6.2.0 in /opt/conda/lib/python3.10/site-packages (from plotly) (8.3.0)\n",
      "Note: you may need to restart the kernel to use updated packages.\n"
     ]
    }
   ],
   "source": [
    "pip install plotly"
   ]
  },
  {
   "cell_type": "code",
   "execution_count": 27,
   "id": "67f4b5b6-87e5-45f7-ad0c-c53b53257cef",
   "metadata": {},
   "outputs": [
    {
     "data": {
      "application/vnd.plotly.v1+json": {
       "config": {
        "plotlyServerURL": "https://plot.ly"
       },
       "data": [
        {
         "mode": "lines",
         "name": "Random Data",
         "type": "scatter",
         "x": [
          0,
          0.10101010101010101,
          0.20202020202020202,
          0.30303030303030304,
          0.40404040404040403,
          0.5050505050505051,
          0.6060606060606061,
          0.7070707070707071,
          0.8080808080808081,
          0.9090909090909091,
          1.0101010101010102,
          1.1111111111111112,
          1.2121212121212122,
          1.3131313131313131,
          1.4141414141414141,
          1.5151515151515151,
          1.6161616161616161,
          1.7171717171717171,
          1.8181818181818181,
          1.9191919191919191,
          2.0202020202020203,
          2.121212121212121,
          2.2222222222222223,
          2.323232323232323,
          2.4242424242424243,
          2.525252525252525,
          2.6262626262626263,
          2.727272727272727,
          2.8282828282828283,
          2.929292929292929,
          3.0303030303030303,
          3.131313131313131,
          3.2323232323232323,
          3.3333333333333335,
          3.4343434343434343,
          3.5353535353535355,
          3.6363636363636362,
          3.7373737373737375,
          3.8383838383838382,
          3.9393939393939394,
          4.040404040404041,
          4.141414141414141,
          4.242424242424242,
          4.343434343434343,
          4.444444444444445,
          4.545454545454545,
          4.646464646464646,
          4.747474747474747,
          4.848484848484849,
          4.94949494949495,
          5.05050505050505,
          5.151515151515151,
          5.252525252525253,
          5.353535353535354,
          5.454545454545454,
          5.555555555555555,
          5.656565656565657,
          5.757575757575758,
          5.858585858585858,
          5.959595959595959,
          6.0606060606060606,
          6.161616161616162,
          6.262626262626262,
          6.363636363636363,
          6.4646464646464645,
          6.565656565656566,
          6.666666666666667,
          6.767676767676767,
          6.8686868686868685,
          6.96969696969697,
          7.070707070707071,
          7.171717171717171,
          7.2727272727272725,
          7.373737373737374,
          7.474747474747475,
          7.575757575757575,
          7.6767676767676765,
          7.777777777777778,
          7.878787878787879,
          7.979797979797979,
          8.080808080808081,
          8.181818181818182,
          8.282828282828282,
          8.383838383838384,
          8.484848484848484,
          8.585858585858587,
          8.686868686868687,
          8.787878787878787,
          8.88888888888889,
          8.98989898989899,
          9.09090909090909,
          9.191919191919192,
          9.292929292929292,
          9.393939393939394,
          9.494949494949495,
          9.595959595959595,
          9.696969696969697,
          9.797979797979798,
          9.8989898989899,
          10
         ],
         "y": [
          1.6157691109736956,
          0.11883025415930405,
          0.7638451036698691,
          -0.3375579809775348,
          -1.031617240092273,
          1.4756939441665176,
          -1.543294571263534,
          0.33939200721786145,
          -0.30660082729604077,
          0.06849170615470479,
          -0.8763437479063452,
          0.3690489379367565,
          -0.8599021956957774,
          1.1791333213079016,
          -0.46409229270047103,
          0.14928358678376275,
          1.1205903817724916,
          0.7822027812259745,
          1.130106622587984,
          0.10460040147762421,
          1.265328508206723,
          -1.4667070811452723,
          -0.9252019647607056,
          -0.2832212254387115,
          -0.11641218986721494,
          1.0471027315415289,
          -0.6425736621548014,
          -0.5152969631037987,
          -0.46805538438221406,
          -1.8088649167615374,
          0.15353981513994922,
          1.673283848430516,
          -1.7871086699098382,
          -0.03421889011032119,
          -2.176170667695312,
          0.28658448738185016,
          -0.7129815647314549,
          0.1323405700747452,
          0.670157879957456,
          1.919581698480774,
          1.635102659134414,
          1.403072403647024,
          0.7835224800923526,
          1.0382825049350515,
          1.4214466087628461,
          -0.7299182238301177,
          -0.5787159704921809,
          0.30584468392371816,
          -0.4701303744023923,
          -1.1544138268322384,
          -0.7283721467186656,
          1.0904841946570545,
          -0.7567540390842817,
          0.1390399562427245,
          0.2344264433106601,
          -1.0999829075303467,
          -0.03337204088892362,
          -0.6783044612860556,
          1.939085714558915,
          -1.136988228632392,
          1.6392129059358929,
          1.3819979111231362,
          -0.2184230863563547,
          0.7823206794828715,
          0.5456973512530338,
          -1.8171740284595426,
          0.5359038529776865,
          1.0883690813288496,
          0.7903690857751282,
          -0.8590862078743396,
          -1.3427391219517442,
          -1.5286735987903635,
          -0.679808183450096,
          0.06529326084043947,
          0.5838965635278165,
          0.8016373215896669,
          -0.8569255433986441,
          1.5675967315371981,
          0.9221060899004523,
          1.937446875104713,
          -0.2469858812868908,
          0.8932072590448589,
          0.10777294512663366,
          0.7463977780269744,
          -1.8610060284567544,
          0.032029389308968356,
          -0.6273561332058725,
          1.6035114447621128,
          0.21770196521803772,
          -1.3448936092462316,
          -0.713658548459616,
          0.9369588485783655,
          -1.023338156579704,
          0.3292250971281976,
          -0.739310711191192,
          0.36542662036275003,
          0.6535182883062605,
          0.2663925276220874,
          -0.6670173818049215,
          -1.3668669252393286
         ]
        }
       ],
       "layout": {
        "autosize": true,
        "template": {
         "data": {
          "bar": [
           {
            "error_x": {
             "color": "#2a3f5f"
            },
            "error_y": {
             "color": "#2a3f5f"
            },
            "marker": {
             "line": {
              "color": "#E5ECF6",
              "width": 0.5
             },
             "pattern": {
              "fillmode": "overlay",
              "size": 10,
              "solidity": 0.2
             }
            },
            "type": "bar"
           }
          ],
          "barpolar": [
           {
            "marker": {
             "line": {
              "color": "#E5ECF6",
              "width": 0.5
             },
             "pattern": {
              "fillmode": "overlay",
              "size": 10,
              "solidity": 0.2
             }
            },
            "type": "barpolar"
           }
          ],
          "carpet": [
           {
            "aaxis": {
             "endlinecolor": "#2a3f5f",
             "gridcolor": "white",
             "linecolor": "white",
             "minorgridcolor": "white",
             "startlinecolor": "#2a3f5f"
            },
            "baxis": {
             "endlinecolor": "#2a3f5f",
             "gridcolor": "white",
             "linecolor": "white",
             "minorgridcolor": "white",
             "startlinecolor": "#2a3f5f"
            },
            "type": "carpet"
           }
          ],
          "choropleth": [
           {
            "colorbar": {
             "outlinewidth": 0,
             "ticks": ""
            },
            "type": "choropleth"
           }
          ],
          "contour": [
           {
            "colorbar": {
             "outlinewidth": 0,
             "ticks": ""
            },
            "colorscale": [
             [
              0,
              "#0d0887"
             ],
             [
              0.1111111111111111,
              "#46039f"
             ],
             [
              0.2222222222222222,
              "#7201a8"
             ],
             [
              0.3333333333333333,
              "#9c179e"
             ],
             [
              0.4444444444444444,
              "#bd3786"
             ],
             [
              0.5555555555555556,
              "#d8576b"
             ],
             [
              0.6666666666666666,
              "#ed7953"
             ],
             [
              0.7777777777777778,
              "#fb9f3a"
             ],
             [
              0.8888888888888888,
              "#fdca26"
             ],
             [
              1,
              "#f0f921"
             ]
            ],
            "type": "contour"
           }
          ],
          "contourcarpet": [
           {
            "colorbar": {
             "outlinewidth": 0,
             "ticks": ""
            },
            "type": "contourcarpet"
           }
          ],
          "heatmap": [
           {
            "colorbar": {
             "outlinewidth": 0,
             "ticks": ""
            },
            "colorscale": [
             [
              0,
              "#0d0887"
             ],
             [
              0.1111111111111111,
              "#46039f"
             ],
             [
              0.2222222222222222,
              "#7201a8"
             ],
             [
              0.3333333333333333,
              "#9c179e"
             ],
             [
              0.4444444444444444,
              "#bd3786"
             ],
             [
              0.5555555555555556,
              "#d8576b"
             ],
             [
              0.6666666666666666,
              "#ed7953"
             ],
             [
              0.7777777777777778,
              "#fb9f3a"
             ],
             [
              0.8888888888888888,
              "#fdca26"
             ],
             [
              1,
              "#f0f921"
             ]
            ],
            "type": "heatmap"
           }
          ],
          "heatmapgl": [
           {
            "colorbar": {
             "outlinewidth": 0,
             "ticks": ""
            },
            "colorscale": [
             [
              0,
              "#0d0887"
             ],
             [
              0.1111111111111111,
              "#46039f"
             ],
             [
              0.2222222222222222,
              "#7201a8"
             ],
             [
              0.3333333333333333,
              "#9c179e"
             ],
             [
              0.4444444444444444,
              "#bd3786"
             ],
             [
              0.5555555555555556,
              "#d8576b"
             ],
             [
              0.6666666666666666,
              "#ed7953"
             ],
             [
              0.7777777777777778,
              "#fb9f3a"
             ],
             [
              0.8888888888888888,
              "#fdca26"
             ],
             [
              1,
              "#f0f921"
             ]
            ],
            "type": "heatmapgl"
           }
          ],
          "histogram": [
           {
            "marker": {
             "pattern": {
              "fillmode": "overlay",
              "size": 10,
              "solidity": 0.2
             }
            },
            "type": "histogram"
           }
          ],
          "histogram2d": [
           {
            "colorbar": {
             "outlinewidth": 0,
             "ticks": ""
            },
            "colorscale": [
             [
              0,
              "#0d0887"
             ],
             [
              0.1111111111111111,
              "#46039f"
             ],
             [
              0.2222222222222222,
              "#7201a8"
             ],
             [
              0.3333333333333333,
              "#9c179e"
             ],
             [
              0.4444444444444444,
              "#bd3786"
             ],
             [
              0.5555555555555556,
              "#d8576b"
             ],
             [
              0.6666666666666666,
              "#ed7953"
             ],
             [
              0.7777777777777778,
              "#fb9f3a"
             ],
             [
              0.8888888888888888,
              "#fdca26"
             ],
             [
              1,
              "#f0f921"
             ]
            ],
            "type": "histogram2d"
           }
          ],
          "histogram2dcontour": [
           {
            "colorbar": {
             "outlinewidth": 0,
             "ticks": ""
            },
            "colorscale": [
             [
              0,
              "#0d0887"
             ],
             [
              0.1111111111111111,
              "#46039f"
             ],
             [
              0.2222222222222222,
              "#7201a8"
             ],
             [
              0.3333333333333333,
              "#9c179e"
             ],
             [
              0.4444444444444444,
              "#bd3786"
             ],
             [
              0.5555555555555556,
              "#d8576b"
             ],
             [
              0.6666666666666666,
              "#ed7953"
             ],
             [
              0.7777777777777778,
              "#fb9f3a"
             ],
             [
              0.8888888888888888,
              "#fdca26"
             ],
             [
              1,
              "#f0f921"
             ]
            ],
            "type": "histogram2dcontour"
           }
          ],
          "mesh3d": [
           {
            "colorbar": {
             "outlinewidth": 0,
             "ticks": ""
            },
            "type": "mesh3d"
           }
          ],
          "parcoords": [
           {
            "line": {
             "colorbar": {
              "outlinewidth": 0,
              "ticks": ""
             }
            },
            "type": "parcoords"
           }
          ],
          "pie": [
           {
            "automargin": true,
            "type": "pie"
           }
          ],
          "scatter": [
           {
            "fillpattern": {
             "fillmode": "overlay",
             "size": 10,
             "solidity": 0.2
            },
            "type": "scatter"
           }
          ],
          "scatter3d": [
           {
            "line": {
             "colorbar": {
              "outlinewidth": 0,
              "ticks": ""
             }
            },
            "marker": {
             "colorbar": {
              "outlinewidth": 0,
              "ticks": ""
             }
            },
            "type": "scatter3d"
           }
          ],
          "scattercarpet": [
           {
            "marker": {
             "colorbar": {
              "outlinewidth": 0,
              "ticks": ""
             }
            },
            "type": "scattercarpet"
           }
          ],
          "scattergeo": [
           {
            "marker": {
             "colorbar": {
              "outlinewidth": 0,
              "ticks": ""
             }
            },
            "type": "scattergeo"
           }
          ],
          "scattergl": [
           {
            "marker": {
             "colorbar": {
              "outlinewidth": 0,
              "ticks": ""
             }
            },
            "type": "scattergl"
           }
          ],
          "scattermapbox": [
           {
            "marker": {
             "colorbar": {
              "outlinewidth": 0,
              "ticks": ""
             }
            },
            "type": "scattermapbox"
           }
          ],
          "scatterpolar": [
           {
            "marker": {
             "colorbar": {
              "outlinewidth": 0,
              "ticks": ""
             }
            },
            "type": "scatterpolar"
           }
          ],
          "scatterpolargl": [
           {
            "marker": {
             "colorbar": {
              "outlinewidth": 0,
              "ticks": ""
             }
            },
            "type": "scatterpolargl"
           }
          ],
          "scatterternary": [
           {
            "marker": {
             "colorbar": {
              "outlinewidth": 0,
              "ticks": ""
             }
            },
            "type": "scatterternary"
           }
          ],
          "surface": [
           {
            "colorbar": {
             "outlinewidth": 0,
             "ticks": ""
            },
            "colorscale": [
             [
              0,
              "#0d0887"
             ],
             [
              0.1111111111111111,
              "#46039f"
             ],
             [
              0.2222222222222222,
              "#7201a8"
             ],
             [
              0.3333333333333333,
              "#9c179e"
             ],
             [
              0.4444444444444444,
              "#bd3786"
             ],
             [
              0.5555555555555556,
              "#d8576b"
             ],
             [
              0.6666666666666666,
              "#ed7953"
             ],
             [
              0.7777777777777778,
              "#fb9f3a"
             ],
             [
              0.8888888888888888,
              "#fdca26"
             ],
             [
              1,
              "#f0f921"
             ]
            ],
            "type": "surface"
           }
          ],
          "table": [
           {
            "cells": {
             "fill": {
              "color": "#EBF0F8"
             },
             "line": {
              "color": "white"
             }
            },
            "header": {
             "fill": {
              "color": "#C8D4E3"
             },
             "line": {
              "color": "white"
             }
            },
            "type": "table"
           }
          ]
         },
         "layout": {
          "annotationdefaults": {
           "arrowcolor": "#2a3f5f",
           "arrowhead": 0,
           "arrowwidth": 1
          },
          "autotypenumbers": "strict",
          "coloraxis": {
           "colorbar": {
            "outlinewidth": 0,
            "ticks": ""
           }
          },
          "colorscale": {
           "diverging": [
            [
             0,
             "#8e0152"
            ],
            [
             0.1,
             "#c51b7d"
            ],
            [
             0.2,
             "#de77ae"
            ],
            [
             0.3,
             "#f1b6da"
            ],
            [
             0.4,
             "#fde0ef"
            ],
            [
             0.5,
             "#f7f7f7"
            ],
            [
             0.6,
             "#e6f5d0"
            ],
            [
             0.7,
             "#b8e186"
            ],
            [
             0.8,
             "#7fbc41"
            ],
            [
             0.9,
             "#4d9221"
            ],
            [
             1,
             "#276419"
            ]
           ],
           "sequential": [
            [
             0,
             "#0d0887"
            ],
            [
             0.1111111111111111,
             "#46039f"
            ],
            [
             0.2222222222222222,
             "#7201a8"
            ],
            [
             0.3333333333333333,
             "#9c179e"
            ],
            [
             0.4444444444444444,
             "#bd3786"
            ],
            [
             0.5555555555555556,
             "#d8576b"
            ],
            [
             0.6666666666666666,
             "#ed7953"
            ],
            [
             0.7777777777777778,
             "#fb9f3a"
            ],
            [
             0.8888888888888888,
             "#fdca26"
            ],
            [
             1,
             "#f0f921"
            ]
           ],
           "sequentialminus": [
            [
             0,
             "#0d0887"
            ],
            [
             0.1111111111111111,
             "#46039f"
            ],
            [
             0.2222222222222222,
             "#7201a8"
            ],
            [
             0.3333333333333333,
             "#9c179e"
            ],
            [
             0.4444444444444444,
             "#bd3786"
            ],
            [
             0.5555555555555556,
             "#d8576b"
            ],
            [
             0.6666666666666666,
             "#ed7953"
            ],
            [
             0.7777777777777778,
             "#fb9f3a"
            ],
            [
             0.8888888888888888,
             "#fdca26"
            ],
            [
             1,
             "#f0f921"
            ]
           ]
          },
          "colorway": [
           "#636efa",
           "#EF553B",
           "#00cc96",
           "#ab63fa",
           "#FFA15A",
           "#19d3f3",
           "#FF6692",
           "#B6E880",
           "#FF97FF",
           "#FECB52"
          ],
          "font": {
           "color": "#2a3f5f"
          },
          "geo": {
           "bgcolor": "white",
           "lakecolor": "white",
           "landcolor": "#E5ECF6",
           "showlakes": true,
           "showland": true,
           "subunitcolor": "white"
          },
          "hoverlabel": {
           "align": "left"
          },
          "hovermode": "closest",
          "mapbox": {
           "style": "light"
          },
          "paper_bgcolor": "white",
          "plot_bgcolor": "#E5ECF6",
          "polar": {
           "angularaxis": {
            "gridcolor": "white",
            "linecolor": "white",
            "ticks": ""
           },
           "bgcolor": "#E5ECF6",
           "radialaxis": {
            "gridcolor": "white",
            "linecolor": "white",
            "ticks": ""
           }
          },
          "scene": {
           "xaxis": {
            "backgroundcolor": "#E5ECF6",
            "gridcolor": "white",
            "gridwidth": 2,
            "linecolor": "white",
            "showbackground": true,
            "ticks": "",
            "zerolinecolor": "white"
           },
           "yaxis": {
            "backgroundcolor": "#E5ECF6",
            "gridcolor": "white",
            "gridwidth": 2,
            "linecolor": "white",
            "showbackground": true,
            "ticks": "",
            "zerolinecolor": "white"
           },
           "zaxis": {
            "backgroundcolor": "#E5ECF6",
            "gridcolor": "white",
            "gridwidth": 2,
            "linecolor": "white",
            "showbackground": true,
            "ticks": "",
            "zerolinecolor": "white"
           }
          },
          "shapedefaults": {
           "line": {
            "color": "#2a3f5f"
           }
          },
          "ternary": {
           "aaxis": {
            "gridcolor": "white",
            "linecolor": "white",
            "ticks": ""
           },
           "baxis": {
            "gridcolor": "white",
            "linecolor": "white",
            "ticks": ""
           },
           "bgcolor": "#E5ECF6",
           "caxis": {
            "gridcolor": "white",
            "linecolor": "white",
            "ticks": ""
           }
          },
          "title": {
           "x": 0.05
          },
          "xaxis": {
           "automargin": true,
           "gridcolor": "white",
           "linecolor": "white",
           "ticks": "",
           "title": {
            "standoff": 15
           },
           "zerolinecolor": "white",
           "zerolinewidth": 2
          },
          "yaxis": {
           "automargin": true,
           "gridcolor": "white",
           "linecolor": "white",
           "ticks": "",
           "title": {
            "standoff": 15
           },
           "zerolinecolor": "white",
           "zerolinewidth": 2
          }
         }
        },
        "title": {
         "text": "Simple Line Plot"
        },
        "xaxis": {
         "autorange": true,
         "range": [
          0,
          10
         ],
         "title": {
          "text": "X-axis"
         },
         "type": "linear"
        },
        "yaxis": {
         "autorange": true,
         "range": [
          -2.4047960222649913,
          2.1677110691285946
         ],
         "title": {
          "text": "Y-axis"
         },
         "type": "linear"
        }
       }
      },
      "image/png": "[encoded data removed]",
      "text/html": [
       "<div>                            <div id=\"4f801265-4698-4e2c-af61-0777d855ef49\" class=\"plotly-graph-div\" style=\"height:525px; width:100%;\"></div>            <script type=\"text/javascript\">                require([\"plotly\"], function(Plotly) {                    window.PLOTLYENV=window.PLOTLYENV || {};                                    if (document.getElementById(\"4f801265-4698-4e2c-af61-0777d855ef49\")) {                    Plotly.newPlot(                        \"4f801265-4698-4e2c-af61-0777d855ef49\",                        [{\"mode\":\"lines\",\"name\":\"Random Data\",\"x\":[0.0,0.10101010101010101,0.20202020202020202,0.30303030303030304,0.40404040404040403,0.5050505050505051,0.6060606060606061,0.7070707070707071,0.8080808080808081,0.9090909090909091,1.0101010101010102,1.1111111111111112,1.2121212121212122,1.3131313131313131,1.4141414141414141,1.5151515151515151,1.6161616161616161,1.7171717171717171,1.8181818181818181,1.9191919191919191,2.0202020202020203,2.121212121212121,2.2222222222222223,2.323232323232323,2.4242424242424243,2.525252525252525,2.6262626262626263,2.727272727272727,2.8282828282828283,2.929292929292929,3.0303030303030303,3.131313131313131,3.2323232323232323,3.3333333333333335,3.4343434343434343,3.5353535353535355,3.6363636363636362,3.7373737373737375,3.8383838383838382,3.9393939393939394,4.040404040404041,4.141414141414141,4.242424242424242,4.343434343434343,4.444444444444445,4.545454545454545,4.646464646464646,4.747474747474747,4.848484848484849,4.94949494949495,5.05050505050505,5.151515151515151,5.252525252525253,5.353535353535354,5.454545454545454,5.555555555555555,5.656565656565657,5.757575757575758,5.858585858585858,5.959595959595959,6.0606060606060606,6.161616161616162,6.262626262626262,6.363636363636363,6.4646464646464645,6.565656565656566,6.666666666666667,6.767676767676767,6.8686868686868685,6.96969696969697,7.070707070707071,7.171717171717171,7.2727272727272725,7.373737373737374,7.474747474747475,7.575757575757575,7.6767676767676765,7.777777777777778,7.878787878787879,7.979797979797979,8.080808080808081,8.181818181818182,8.282828282828282,8.383838383838384,8.484848484848484,8.585858585858587,8.686868686868687,8.787878787878787,8.88888888888889,8.98989898989899,9.09090909090909,9.191919191919192,9.292929292929292,9.393939393939394,9.494949494949495,9.595959595959595,9.696969696969697,9.797979797979798,9.8989898989899,10.0],\"y\":[1.6157691109736956,0.11883025415930405,0.7638451036698691,-0.3375579809775348,-1.031617240092273,1.4756939441665176,-1.543294571263534,0.33939200721786145,-0.30660082729604077,0.06849170615470479,-0.8763437479063452,0.3690489379367565,-0.8599021956957774,1.1791333213079016,-0.46409229270047103,0.14928358678376275,1.1205903817724916,0.7822027812259745,1.130106622587984,0.10460040147762421,1.265328508206723,-1.4667070811452723,-0.9252019647607056,-0.2832212254387115,-0.11641218986721494,1.0471027315415289,-0.6425736621548014,-0.5152969631037987,-0.46805538438221406,-1.8088649167615374,0.15353981513994922,1.673283848430516,-1.7871086699098382,-0.03421889011032119,-2.176170667695312,0.28658448738185016,-0.7129815647314549,0.1323405700747452,0.670157879957456,1.919581698480774,1.635102659134414,1.403072403647024,0.7835224800923526,1.0382825049350515,1.4214466087628461,-0.7299182238301177,-0.5787159704921809,0.30584468392371816,-0.4701303744023923,-1.1544138268322384,-0.7283721467186656,1.0904841946570545,-0.7567540390842817,0.1390399562427245,0.2344264433106601,-1.0999829075303467,-0.03337204088892362,-0.6783044612860556,1.939085714558915,-1.136988228632392,1.6392129059358929,1.3819979111231362,-0.2184230863563547,0.7823206794828715,0.5456973512530338,-1.8171740284595426,0.5359038529776865,1.0883690813288496,0.7903690857751282,-0.8590862078743396,-1.3427391219517442,-1.5286735987903635,-0.679808183450096,0.06529326084043947,0.5838965635278165,0.8016373215896669,-0.8569255433986441,1.5675967315371981,0.9221060899004523,1.937446875104713,-0.2469858812868908,0.8932072590448589,0.10777294512663366,0.7463977780269744,-1.8610060284567544,0.032029389308968356,-0.6273561332058725,1.6035114447621128,0.21770196521803772,-1.3448936092462316,-0.713658548459616,0.9369588485783655,-1.023338156579704,0.3292250971281976,-0.739310711191192,0.36542662036275003,0.6535182883062605,0.2663925276220874,-0.6670173818049215,-1.3668669252393286],\"type\":\"scatter\"}],                        {\"template\":{\"data\":{\"histogram2dcontour\":[{\"type\":\"histogram2dcontour\",\"colorbar\":{\"outlinewidth\":0,\"ticks\":\"\"},\"colorscale\":[[0.0,\"#0d0887\"],[0.1111111111111111,\"#46039f\"],[0.2222222222222222,\"#7201a8\"],[0.3333333333333333,\"#9c179e\"],[0.4444444444444444,\"#bd3786\"],[0.5555555555555556,\"#d8576b\"],[0.6666666666666666,\"#ed7953\"],[0.7777777777777778,\"#fb9f3a\"],[0.8888888888888888,\"#fdca26\"],[1.0,\"#f0f921\"]]}],\"choropleth\":[{\"type\":\"choropleth\",\"colorbar\":{\"outlinewidth\":0,\"ticks\":\"\"}}],\"histogram2d\":[{\"type\":\"histogram2d\",\"colorbar\":{\"outlinewidth\":0,\"ticks\":\"\"},\"colorscale\":[[0.0,\"#0d0887\"],[0.1111111111111111,\"#46039f\"],[0.2222222222222222,\"#7201a8\"],[0.3333333333333333,\"#9c179e\"],[0.4444444444444444,\"#bd3786\"],[0.5555555555555556,\"#d8576b\"],[0.6666666666666666,\"#ed7953\"],[0.7777777777777778,\"#fb9f3a\"],[0.8888888888888888,\"#fdca26\"],[1.0,\"#f0f921\"]]}],\"heatmap\":[{\"type\":\"heatmap\",\"colorbar\":{\"outlinewidth\":0,\"ticks\":\"\"},\"colorscale\":[[0.0,\"#0d0887\"],[0.1111111111111111,\"#46039f\"],[0.2222222222222222,\"#7201a8\"],[0.3333333333333333,\"#9c179e\"],[0.4444444444444444,\"#bd3786\"],[0.5555555555555556,\"#d8576b\"],[0.6666666666666666,\"#ed7953\"],[0.7777777777777778,\"#fb9f3a\"],[0.8888888888888888,\"#fdca26\"],[1.0,\"#f0f921\"]]}],\"heatmapgl\":[{\"type\":\"heatmapgl\",\"colorbar\":{\"outlinewidth\":0,\"ticks\":\"\"},\"colorscale\":[[0.0,\"#0d0887\"],[0.1111111111111111,\"#46039f\"],[0.2222222222222222,\"#7201a8\"],[0.3333333333333333,\"#9c179e\"],[0.4444444444444444,\"#bd3786\"],[0.5555555555555556,\"#d8576b\"],[0.6666666666666666,\"#ed7953\"],[0.7777777777777778,\"#fb9f3a\"],[0.8888888888888888,\"#fdca26\"],[1.0,\"#f0f921\"]]}],\"contourcarpet\":[{\"type\":\"contourcarpet\",\"colorbar\":{\"outlinewidth\":0,\"ticks\":\"\"}}],\"contour\":[{\"type\":\"contour\",\"colorbar\":{\"outlinewidth\":0,\"ticks\":\"\"},\"colorscale\":[[0.0,\"#0d0887\"],[0.1111111111111111,\"#46039f\"],[0.2222222222222222,\"#7201a8\"],[0.3333333333333333,\"#9c179e\"],[0.4444444444444444,\"#bd3786\"],[0.5555555555555556,\"#d8576b\"],[0.6666666666666666,\"#ed7953\"],[0.7777777777777778,\"#fb9f3a\"],[0.8888888888888888,\"#fdca26\"],[1.0,\"#f0f921\"]]}],\"surface\":[{\"type\":\"surface\",\"colorbar\":{\"outlinewidth\":0,\"ticks\":\"\"},\"colorscale\":[[0.0,\"#0d0887\"],[0.1111111111111111,\"#46039f\"],[0.2222222222222222,\"#7201a8\"],[0.3333333333333333,\"#9c179e\"],[0.4444444444444444,\"#bd3786\"],[0.5555555555555556,\"#d8576b\"],[0.6666666666666666,\"#ed7953\"],[0.7777777777777778,\"#fb9f3a\"],[0.8888888888888888,\"#fdca26\"],[1.0,\"#f0f921\"]]}],\"mesh3d\":[{\"type\":\"mesh3d\",\"colorbar\":{\"outlinewidth\":0,\"ticks\":\"\"}}],\"scatter\":[{\"fillpattern\":{\"fillmode\":\"overlay\",\"size\":10,\"solidity\":0.2},\"type\":\"scatter\"}],\"parcoords\":[{\"type\":\"parcoords\",\"line\":{\"colorbar\":{\"outlinewidth\":0,\"ticks\":\"\"}}}],\"scatterpolargl\":[{\"type\":\"scatterpolargl\",\"marker\":{\"colorbar\":{\"outlinewidth\":0,\"ticks\":\"\"}}}],\"bar\":[{\"error_x\":{\"color\":\"#2a3f5f\"},\"error_y\":{\"color\":\"#2a3f5f\"},\"marker\":{\"line\":{\"color\":\"#E5ECF6\",\"width\":0.5},\"pattern\":{\"fillmode\":\"overlay\",\"size\":10,\"solidity\":0.2}},\"type\":\"bar\"}],\"scattergeo\":[{\"type\":\"scattergeo\",\"marker\":{\"colorbar\":{\"outlinewidth\":0,\"ticks\":\"\"}}}],\"scatterpolar\":[{\"type\":\"scatterpolar\",\"marker\":{\"colorbar\":{\"outlinewidth\":0,\"ticks\":\"\"}}}],\"histogram\":[{\"marker\":{\"pattern\":{\"fillmode\":\"overlay\",\"size\":10,\"solidity\":0.2}},\"type\":\"histogram\"}],\"scattergl\":[{\"type\":\"scattergl\",\"marker\":{\"colorbar\":{\"outlinewidth\":0,\"ticks\":\"\"}}}],\"scatter3d\":[{\"type\":\"scatter3d\",\"line\":{\"colorbar\":{\"outlinewidth\":0,\"ticks\":\"\"}},\"marker\":{\"colorbar\":{\"outlinewidth\":0,\"ticks\":\"\"}}}],\"scattermapbox\":[{\"type\":\"scattermapbox\",\"marker\":{\"colorbar\":{\"outlinewidth\":0,\"ticks\":\"\"}}}],\"scatterternary\":[{\"type\":\"scatterternary\",\"marker\":{\"colorbar\":{\"outlinewidth\":0,\"ticks\":\"\"}}}],\"scattercarpet\":[{\"type\":\"scattercarpet\",\"marker\":{\"colorbar\":{\"outlinewidth\":0,\"ticks\":\"\"}}}],\"carpet\":[{\"aaxis\":{\"endlinecolor\":\"#2a3f5f\",\"gridcolor\":\"white\",\"linecolor\":\"white\",\"minorgridcolor\":\"white\",\"startlinecolor\":\"#2a3f5f\"},\"baxis\":{\"endlinecolor\":\"#2a3f5f\",\"gridcolor\":\"white\",\"linecolor\":\"white\",\"minorgridcolor\":\"white\",\"startlinecolor\":\"#2a3f5f\"},\"type\":\"carpet\"}],\"table\":[{\"cells\":{\"fill\":{\"color\":\"#EBF0F8\"},\"line\":{\"color\":\"white\"}},\"header\":{\"fill\":{\"color\":\"#C8D4E3\"},\"line\":{\"color\":\"white\"}},\"type\":\"table\"}],\"barpolar\":[{\"marker\":{\"line\":{\"color\":\"#E5ECF6\",\"width\":0.5},\"pattern\":{\"fillmode\":\"overlay\",\"size\":10,\"solidity\":0.2}},\"type\":\"barpolar\"}],\"pie\":[{\"automargin\":true,\"type\":\"pie\"}]},\"layout\":{\"autotypenumbers\":\"strict\",\"colorway\":[\"#636efa\",\"#EF553B\",\"#00cc96\",\"#ab63fa\",\"#FFA15A\",\"#19d3f3\",\"#FF6692\",\"#B6E880\",\"#FF97FF\",\"#FECB52\"],\"font\":{\"color\":\"#2a3f5f\"},\"hovermode\":\"closest\",\"hoverlabel\":{\"align\":\"left\"},\"paper_bgcolor\":\"white\",\"plot_bgcolor\":\"#E5ECF6\",\"polar\":{\"bgcolor\":\"#E5ECF6\",\"angularaxis\":{\"gridcolor\":\"white\",\"linecolor\":\"white\",\"ticks\":\"\"},\"radialaxis\":{\"gridcolor\":\"white\",\"linecolor\":\"white\",\"ticks\":\"\"}},\"ternary\":{\"bgcolor\":\"#E5ECF6\",\"aaxis\":{\"gridcolor\":\"white\",\"linecolor\":\"white\",\"ticks\":\"\"},\"baxis\":{\"gridcolor\":\"white\",\"linecolor\":\"white\",\"ticks\":\"\"},\"caxis\":{\"gridcolor\":\"white\",\"linecolor\":\"white\",\"ticks\":\"\"}},\"coloraxis\":{\"colorbar\":{\"outlinewidth\":0,\"ticks\":\"\"}},\"colorscale\":{\"sequential\":[[0.0,\"#0d0887\"],[0.1111111111111111,\"#46039f\"],[0.2222222222222222,\"#7201a8\"],[0.3333333333333333,\"#9c179e\"],[0.4444444444444444,\"#bd3786\"],[0.5555555555555556,\"#d8576b\"],[0.6666666666666666,\"#ed7953\"],[0.7777777777777778,\"#fb9f3a\"],[0.8888888888888888,\"#fdca26\"],[1.0,\"#f0f921\"]],\"sequentialminus\":[[0.0,\"#0d0887\"],[0.1111111111111111,\"#46039f\"],[0.2222222222222222,\"#7201a8\"],[0.3333333333333333,\"#9c179e\"],[0.4444444444444444,\"#bd3786\"],[0.5555555555555556,\"#d8576b\"],[0.6666666666666666,\"#ed7953\"],[0.7777777777777778,\"#fb9f3a\"],[0.8888888888888888,\"#fdca26\"],[1.0,\"#f0f921\"]],\"diverging\":[[0,\"#8e0152\"],[0.1,\"#c51b7d\"],[0.2,\"#de77ae\"],[0.3,\"#f1b6da\"],[0.4,\"#fde0ef\"],[0.5,\"#f7f7f7\"],[0.6,\"#e6f5d0\"],[0.7,\"#b8e186\"],[0.8,\"#7fbc41\"],[0.9,\"#4d9221\"],[1,\"#276419\"]]},\"xaxis\":{\"gridcolor\":\"white\",\"linecolor\":\"white\",\"ticks\":\"\",\"title\":{\"standoff\":15},\"zerolinecolor\":\"white\",\"automargin\":true,\"zerolinewidth\":2},\"yaxis\":{\"gridcolor\":\"white\",\"linecolor\":\"white\",\"ticks\":\"\",\"title\":{\"standoff\":15},\"zerolinecolor\":\"white\",\"automargin\":true,\"zerolinewidth\":2},\"scene\":{\"xaxis\":{\"backgroundcolor\":\"#E5ECF6\",\"gridcolor\":\"white\",\"linecolor\":\"white\",\"showbackground\":true,\"ticks\":\"\",\"zerolinecolor\":\"white\",\"gridwidth\":2},\"yaxis\":{\"backgroundcolor\":\"#E5ECF6\",\"gridcolor\":\"white\",\"linecolor\":\"white\",\"showbackground\":true,\"ticks\":\"\",\"zerolinecolor\":\"white\",\"gridwidth\":2},\"zaxis\":{\"backgroundcolor\":\"#E5ECF6\",\"gridcolor\":\"white\",\"linecolor\":\"white\",\"showbackground\":true,\"ticks\":\"\",\"zerolinecolor\":\"white\",\"gridwidth\":2}},\"shapedefaults\":{\"line\":{\"color\":\"#2a3f5f\"}},\"annotationdefaults\":{\"arrowcolor\":\"#2a3f5f\",\"arrowhead\":0,\"arrowwidth\":1},\"geo\":{\"bgcolor\":\"white\",\"landcolor\":\"#E5ECF6\",\"subunitcolor\":\"white\",\"showland\":true,\"showlakes\":true,\"lakecolor\":\"white\"},\"title\":{\"x\":0.05},\"mapbox\":{\"style\":\"light\"}}},\"xaxis\":{\"title\":{\"text\":\"X-axis\"}},\"yaxis\":{\"title\":{\"text\":\"Y-axis\"}},\"title\":{\"text\":\"Simple Line Plot\"}},                        {\"responsive\": true}                    ).then(function(){\n",
       "                            \n",
       "var gd = document.getElementById('4f801265-4698-4e2c-af61-0777d855ef49');\n",
       "var x = new MutationObserver(function (mutations, observer) {{\n",
       "        var display = window.getComputedStyle(gd).display;\n",
       "        if (!display || display === 'none') {{\n",
       "            console.log([gd, 'removed!']);\n",
       "            Plotly.purge(gd);\n",
       "            observer.disconnect();\n",
       "        }}\n",
       "}});\n",
       "\n",
       "// Listen for the removal of the full notebook cells\n",
       "var notebookContainer = gd.closest('#notebook-container');\n",
       "if (notebookContainer) {{\n",
       "    x.observe(notebookContainer, {childList: true});\n",
       "}}\n",
       "\n",
       "// Listen for the clearing of the current output cell\n",
       "var outputEl = gd.closest('.output');\n",
       "if (outputEl) {{\n",
       "    x.observe(outputEl, {childList: true});\n",
       "}}\n",
       "\n",
       "                        })                };                });            </script>        </div>"
      ]
     },
     "metadata": {},
     "output_type": "display_data"
    }
   ],
   "source": [
    "\n",
    "# 20. Using Plotly, create a basic line plot of a randomly generated dataset, label the axes, and set the title as \n",
    "#     'Simple Line Plot'\n",
    "\n",
    "import plotly.graph_objs as go\n",
    "import numpy as np\n",
    "\n",
    "x = np.linspace(0, 10, 100)\n",
    "y = np.random.randn(100)\n",
    "\n",
    "\n",
    "fig = go.Figure()\n",
    "\n",
    "\n",
    "fig.add_trace(go.Scatter(x=x, y=y, mode='lines', name='Random Data'))\n",
    "\n",
    "\n",
    "fig.update_layout(\n",
    "    xaxis_title='X-axis',\n",
    "    yaxis_title='Y-axis',\n",
    "    title='Simple Line Plot'\n",
    ")\n",
    "\n",
    "# Show the plot\n",
    "fig.show()\n"
   ]
  },
  {
   "cell_type": "code",
   "execution_count": 29,
   "id": "4ca736e8-a472-4cb8-9549-4eac04955c0b",
   "metadata": {},
   "outputs": [
    {
     "data": {
      "application/vnd.plotly.v1+json": {
       "config": {
        "plotlyServerURL": "https://plot.ly"
       },
       "data": [
        {
         "labels": [
          "Category A",
          "Category B",
          "Category C",
          "Category D",
          "Category E"
         ],
         "textinfo": "label+percent",
         "type": "pie",
         "values": [
          62,
          12,
          79,
          48,
          38
         ]
        }
       ],
       "layout": {
        "autosize": true,
        "template": {
         "data": {
          "bar": [
           {
            "error_x": {
             "color": "#2a3f5f"
            },
            "error_y": {
             "color": "#2a3f5f"
            },
            "marker": {
             "line": {
              "color": "#E5ECF6",
              "width": 0.5
             },
             "pattern": {
              "fillmode": "overlay",
              "size": 10,
              "solidity": 0.2
             }
            },
            "type": "bar"
           }
          ],
          "barpolar": [
           {
            "marker": {
             "line": {
              "color": "#E5ECF6",
              "width": 0.5
             },
             "pattern": {
              "fillmode": "overlay",
              "size": 10,
              "solidity": 0.2
             }
            },
            "type": "barpolar"
           }
          ],
          "carpet": [
           {
            "aaxis": {
             "endlinecolor": "#2a3f5f",
             "gridcolor": "white",
             "linecolor": "white",
             "minorgridcolor": "white",
             "startlinecolor": "#2a3f5f"
            },
            "baxis": {
             "endlinecolor": "#2a3f5f",
             "gridcolor": "white",
             "linecolor": "white",
             "minorgridcolor": "white",
             "startlinecolor": "#2a3f5f"
            },
            "type": "carpet"
           }
          ],
          "choropleth": [
           {
            "colorbar": {
             "outlinewidth": 0,
             "ticks": ""
            },
            "type": "choropleth"
           }
          ],
          "contour": [
           {
            "colorbar": {
             "outlinewidth": 0,
             "ticks": ""
            },
            "colorscale": [
             [
              0,
              "#0d0887"
             ],
             [
              0.1111111111111111,
              "#46039f"
             ],
             [
              0.2222222222222222,
              "#7201a8"
             ],
             [
              0.3333333333333333,
              "#9c179e"
             ],
             [
              0.4444444444444444,
              "#bd3786"
             ],
             [
              0.5555555555555556,
              "#d8576b"
             ],
             [
              0.6666666666666666,
              "#ed7953"
             ],
             [
              0.7777777777777778,
              "#fb9f3a"
             ],
             [
              0.8888888888888888,
              "#fdca26"
             ],
             [
              1,
              "#f0f921"
             ]
            ],
            "type": "contour"
           }
          ],
          "contourcarpet": [
           {
            "colorbar": {
             "outlinewidth": 0,
             "ticks": ""
            },
            "type": "contourcarpet"
           }
          ],
          "heatmap": [
           {
            "colorbar": {
             "outlinewidth": 0,
             "ticks": ""
            },
            "colorscale": [
             [
              0,
              "#0d0887"
             ],
             [
              0.1111111111111111,
              "#46039f"
             ],
             [
              0.2222222222222222,
              "#7201a8"
             ],
             [
              0.3333333333333333,
              "#9c179e"
             ],
             [
              0.4444444444444444,
              "#bd3786"
             ],
             [
              0.5555555555555556,
              "#d8576b"
             ],
             [
              0.6666666666666666,
              "#ed7953"
             ],
             [
              0.7777777777777778,
              "#fb9f3a"
             ],
             [
              0.8888888888888888,
              "#fdca26"
             ],
             [
              1,
              "#f0f921"
             ]
            ],
            "type": "heatmap"
           }
          ],
          "heatmapgl": [
           {
            "colorbar": {
             "outlinewidth": 0,
             "ticks": ""
            },
            "colorscale": [
             [
              0,
              "#0d0887"
             ],
             [
              0.1111111111111111,
              "#46039f"
             ],
             [
              0.2222222222222222,
              "#7201a8"
             ],
             [
              0.3333333333333333,
              "#9c179e"
             ],
             [
              0.4444444444444444,
              "#bd3786"
             ],
             [
              0.5555555555555556,
              "#d8576b"
             ],
             [
              0.6666666666666666,
              "#ed7953"
             ],
             [
              0.7777777777777778,
              "#fb9f3a"
             ],
             [
              0.8888888888888888,
              "#fdca26"
             ],
             [
              1,
              "#f0f921"
             ]
            ],
            "type": "heatmapgl"
           }
          ],
          "histogram": [
           {
            "marker": {
             "pattern": {
              "fillmode": "overlay",
              "size": 10,
              "solidity": 0.2
             }
            },
            "type": "histogram"
           }
          ],
          "histogram2d": [
           {
            "colorbar": {
             "outlinewidth": 0,
             "ticks": ""
            },
            "colorscale": [
             [
              0,
              "#0d0887"
             ],
             [
              0.1111111111111111,
              "#46039f"
             ],
             [
              0.2222222222222222,
              "#7201a8"
             ],
             [
              0.3333333333333333,
              "#9c179e"
             ],
             [
              0.4444444444444444,
              "#bd3786"
             ],
             [
              0.5555555555555556,
              "#d8576b"
             ],
             [
              0.6666666666666666,
              "#ed7953"
             ],
             [
              0.7777777777777778,
              "#fb9f3a"
             ],
             [
              0.8888888888888888,
              "#fdca26"
             ],
             [
              1,
              "#f0f921"
             ]
            ],
            "type": "histogram2d"
           }
          ],
          "histogram2dcontour": [
           {
            "colorbar": {
             "outlinewidth": 0,
             "ticks": ""
            },
            "colorscale": [
             [
              0,
              "#0d0887"
             ],
             [
              0.1111111111111111,
              "#46039f"
             ],
             [
              0.2222222222222222,
              "#7201a8"
             ],
             [
              0.3333333333333333,
              "#9c179e"
             ],
             [
              0.4444444444444444,
              "#bd3786"
             ],
             [
              0.5555555555555556,
              "#d8576b"
             ],
             [
              0.6666666666666666,
              "#ed7953"
             ],
             [
              0.7777777777777778,
              "#fb9f3a"
             ],
             [
              0.8888888888888888,
              "#fdca26"
             ],
             [
              1,
              "#f0f921"
             ]
            ],
            "type": "histogram2dcontour"
           }
          ],
          "mesh3d": [
           {
            "colorbar": {
             "outlinewidth": 0,
             "ticks": ""
            },
            "type": "mesh3d"
           }
          ],
          "parcoords": [
           {
            "line": {
             "colorbar": {
              "outlinewidth": 0,
              "ticks": ""
             }
            },
            "type": "parcoords"
           }
          ],
          "pie": [
           {
            "automargin": true,
            "type": "pie"
           }
          ],
          "scatter": [
           {
            "fillpattern": {
             "fillmode": "overlay",
             "size": 10,
             "solidity": 0.2
            },
            "type": "scatter"
           }
          ],
          "scatter3d": [
           {
            "line": {
             "colorbar": {
              "outlinewidth": 0,
              "ticks": ""
             }
            },
            "marker": {
             "colorbar": {
              "outlinewidth": 0,
              "ticks": ""
             }
            },
            "type": "scatter3d"
           }
          ],
          "scattercarpet": [
           {
            "marker": {
             "colorbar": {
              "outlinewidth": 0,
              "ticks": ""
             }
            },
            "type": "scattercarpet"
           }
          ],
          "scattergeo": [
           {
            "marker": {
             "colorbar": {
              "outlinewidth": 0,
              "ticks": ""
             }
            },
            "type": "scattergeo"
           }
          ],
          "scattergl": [
           {
            "marker": {
             "colorbar": {
              "outlinewidth": 0,
              "ticks": ""
             }
            },
            "type": "scattergl"
           }
          ],
          "scattermapbox": [
           {
            "marker": {
             "colorbar": {
              "outlinewidth": 0,
              "ticks": ""
             }
            },
            "type": "scattermapbox"
           }
          ],
          "scatterpolar": [
           {
            "marker": {
             "colorbar": {
              "outlinewidth": 0,
              "ticks": ""
             }
            },
            "type": "scatterpolar"
           }
          ],
          "scatterpolargl": [
           {
            "marker": {
             "colorbar": {
              "outlinewidth": 0,
              "ticks": ""
             }
            },
            "type": "scatterpolargl"
           }
          ],
          "scatterternary": [
           {
            "marker": {
             "colorbar": {
              "outlinewidth": 0,
              "ticks": ""
             }
            },
            "type": "scatterternary"
           }
          ],
          "surface": [
           {
            "colorbar": {
             "outlinewidth": 0,
             "ticks": ""
            },
            "colorscale": [
             [
              0,
              "#0d0887"
             ],
             [
              0.1111111111111111,
              "#46039f"
             ],
             [
              0.2222222222222222,
              "#7201a8"
             ],
             [
              0.3333333333333333,
              "#9c179e"
             ],
             [
              0.4444444444444444,
              "#bd3786"
             ],
             [
              0.5555555555555556,
              "#d8576b"
             ],
             [
              0.6666666666666666,
              "#ed7953"
             ],
             [
              0.7777777777777778,
              "#fb9f3a"
             ],
             [
              0.8888888888888888,
              "#fdca26"
             ],
             [
              1,
              "#f0f921"
             ]
            ],
            "type": "surface"
           }
          ],
          "table": [
           {
            "cells": {
             "fill": {
              "color": "#EBF0F8"
             },
             "line": {
              "color": "white"
             }
            },
            "header": {
             "fill": {
              "color": "#C8D4E3"
             },
             "line": {
              "color": "white"
             }
            },
            "type": "table"
           }
          ]
         },
         "layout": {
          "annotationdefaults": {
           "arrowcolor": "#2a3f5f",
           "arrowhead": 0,
           "arrowwidth": 1
          },
          "autotypenumbers": "strict",
          "coloraxis": {
           "colorbar": {
            "outlinewidth": 0,
            "ticks": ""
           }
          },
          "colorscale": {
           "diverging": [
            [
             0,
             "#8e0152"
            ],
            [
             0.1,
             "#c51b7d"
            ],
            [
             0.2,
             "#de77ae"
            ],
            [
             0.3,
             "#f1b6da"
            ],
            [
             0.4,
             "#fde0ef"
            ],
            [
             0.5,
             "#f7f7f7"
            ],
            [
             0.6,
             "#e6f5d0"
            ],
            [
             0.7,
             "#b8e186"
            ],
            [
             0.8,
             "#7fbc41"
            ],
            [
             0.9,
             "#4d9221"
            ],
            [
             1,
             "#276419"
            ]
           ],
           "sequential": [
            [
             0,
             "#0d0887"
            ],
            [
             0.1111111111111111,
             "#46039f"
            ],
            [
             0.2222222222222222,
             "#7201a8"
            ],
            [
             0.3333333333333333,
             "#9c179e"
            ],
            [
             0.4444444444444444,
             "#bd3786"
            ],
            [
             0.5555555555555556,
             "#d8576b"
            ],
            [
             0.6666666666666666,
             "#ed7953"
            ],
            [
             0.7777777777777778,
             "#fb9f3a"
            ],
            [
             0.8888888888888888,
             "#fdca26"
            ],
            [
             1,
             "#f0f921"
            ]
           ],
           "sequentialminus": [
            [
             0,
             "#0d0887"
            ],
            [
             0.1111111111111111,
             "#46039f"
            ],
            [
             0.2222222222222222,
             "#7201a8"
            ],
            [
             0.3333333333333333,
             "#9c179e"
            ],
            [
             0.4444444444444444,
             "#bd3786"
            ],
            [
             0.5555555555555556,
             "#d8576b"
            ],
            [
             0.6666666666666666,
             "#ed7953"
            ],
            [
             0.7777777777777778,
             "#fb9f3a"
            ],
            [
             0.8888888888888888,
             "#fdca26"
            ],
            [
             1,
             "#f0f921"
            ]
           ]
          },
          "colorway": [
           "#636efa",
           "#EF553B",
           "#00cc96",
           "#ab63fa",
           "#FFA15A",
           "#19d3f3",
           "#FF6692",
           "#B6E880",
           "#FF97FF",
           "#FECB52"
          ],
          "font": {
           "color": "#2a3f5f"
          },
          "geo": {
           "bgcolor": "white",
           "lakecolor": "white",
           "landcolor": "#E5ECF6",
           "showlakes": true,
           "showland": true,
           "subunitcolor": "white"
          },
          "hoverlabel": {
           "align": "left"
          },
          "hovermode": "closest",
          "mapbox": {
           "style": "light"
          },
          "paper_bgcolor": "white",
          "plot_bgcolor": "#E5ECF6",
          "polar": {
           "angularaxis": {
            "gridcolor": "white",
            "linecolor": "white",
            "ticks": ""
           },
           "bgcolor": "#E5ECF6",
           "radialaxis": {
            "gridcolor": "white",
            "linecolor": "white",
            "ticks": ""
           }
          },
          "scene": {
           "xaxis": {
            "backgroundcolor": "#E5ECF6",
            "gridcolor": "white",
            "gridwidth": 2,
            "linecolor": "white",
            "showbackground": true,
            "ticks": "",
            "zerolinecolor": "white"
           },
           "yaxis": {
            "backgroundcolor": "#E5ECF6",
            "gridcolor": "white",
            "gridwidth": 2,
            "linecolor": "white",
            "showbackground": true,
            "ticks": "",
            "zerolinecolor": "white"
           },
           "zaxis": {
            "backgroundcolor": "#E5ECF6",
            "gridcolor": "white",
            "gridwidth": 2,
            "linecolor": "white",
            "showbackground": true,
            "ticks": "",
            "zerolinecolor": "white"
           }
          },
          "shapedefaults": {
           "line": {
            "color": "#2a3f5f"
           }
          },
          "ternary": {
           "aaxis": {
            "gridcolor": "white",
            "linecolor": "white",
            "ticks": ""
           },
           "baxis": {
            "gridcolor": "white",
            "linecolor": "white",
            "ticks": ""
           },
           "bgcolor": "#E5ECF6",
           "caxis": {
            "gridcolor": "white",
            "linecolor": "white",
            "ticks": ""
           }
          },
          "title": {
           "x": 0.05
          },
          "xaxis": {
           "automargin": true,
           "gridcolor": "white",
           "linecolor": "white",
           "ticks": "",
           "title": {
            "standoff": 15
           },
           "zerolinecolor": "white",
           "zerolinewidth": 2
          },
          "yaxis": {
           "automargin": true,
           "gridcolor": "white",
           "linecolor": "white",
           "ticks": "",
           "title": {
            "standoff": 15
           },
           "zerolinecolor": "white",
           "zerolinewidth": 2
          }
         }
        },
        "title": {
         "text": "Interactive Pie Chart"
        }
       }
      },
      "image/png": "[encoded data removed]",
      "text/html": [
       "<div>                            <div id=\"49207f0a-1302-44aa-aabd-baffe982bd20\" class=\"plotly-graph-div\" style=\"height:525px; width:100%;\"></div>            <script type=\"text/javascript\">                require([\"plotly\"], function(Plotly) {                    window.PLOTLYENV=window.PLOTLYENV || {};                                    if (document.getElementById(\"49207f0a-1302-44aa-aabd-baffe982bd20\")) {                    Plotly.newPlot(                        \"49207f0a-1302-44aa-aabd-baffe982bd20\",                        [{\"labels\":[\"Category A\",\"Category B\",\"Category C\",\"Category D\",\"Category E\"],\"textinfo\":\"label+percent\",\"values\":[62,12,79,48,38],\"type\":\"pie\"}],                        {\"template\":{\"data\":{\"histogram2dcontour\":[{\"type\":\"histogram2dcontour\",\"colorbar\":{\"outlinewidth\":0,\"ticks\":\"\"},\"colorscale\":[[0.0,\"#0d0887\"],[0.1111111111111111,\"#46039f\"],[0.2222222222222222,\"#7201a8\"],[0.3333333333333333,\"#9c179e\"],[0.4444444444444444,\"#bd3786\"],[0.5555555555555556,\"#d8576b\"],[0.6666666666666666,\"#ed7953\"],[0.7777777777777778,\"#fb9f3a\"],[0.8888888888888888,\"#fdca26\"],[1.0,\"#f0f921\"]]}],\"choropleth\":[{\"type\":\"choropleth\",\"colorbar\":{\"outlinewidth\":0,\"ticks\":\"\"}}],\"histogram2d\":[{\"type\":\"histogram2d\",\"colorbar\":{\"outlinewidth\":0,\"ticks\":\"\"},\"colorscale\":[[0.0,\"#0d0887\"],[0.1111111111111111,\"#46039f\"],[0.2222222222222222,\"#7201a8\"],[0.3333333333333333,\"#9c179e\"],[0.4444444444444444,\"#bd3786\"],[0.5555555555555556,\"#d8576b\"],[0.6666666666666666,\"#ed7953\"],[0.7777777777777778,\"#fb9f3a\"],[0.8888888888888888,\"#fdca26\"],[1.0,\"#f0f921\"]]}],\"heatmap\":[{\"type\":\"heatmap\",\"colorbar\":{\"outlinewidth\":0,\"ticks\":\"\"},\"colorscale\":[[0.0,\"#0d0887\"],[0.1111111111111111,\"#46039f\"],[0.2222222222222222,\"#7201a8\"],[0.3333333333333333,\"#9c179e\"],[0.4444444444444444,\"#bd3786\"],[0.5555555555555556,\"#d8576b\"],[0.6666666666666666,\"#ed7953\"],[0.7777777777777778,\"#fb9f3a\"],[0.8888888888888888,\"#fdca26\"],[1.0,\"#f0f921\"]]}],\"heatmapgl\":[{\"type\":\"heatmapgl\",\"colorbar\":{\"outlinewidth\":0,\"ticks\":\"\"},\"colorscale\":[[0.0,\"#0d0887\"],[0.1111111111111111,\"#46039f\"],[0.2222222222222222,\"#7201a8\"],[0.3333333333333333,\"#9c179e\"],[0.4444444444444444,\"#bd3786\"],[0.5555555555555556,\"#d8576b\"],[0.6666666666666666,\"#ed7953\"],[0.7777777777777778,\"#fb9f3a\"],[0.8888888888888888,\"#fdca26\"],[1.0,\"#f0f921\"]]}],\"contourcarpet\":[{\"type\":\"contourcarpet\",\"colorbar\":{\"outlinewidth\":0,\"ticks\":\"\"}}],\"contour\":[{\"type\":\"contour\",\"colorbar\":{\"outlinewidth\":0,\"ticks\":\"\"},\"colorscale\":[[0.0,\"#0d0887\"],[0.1111111111111111,\"#46039f\"],[0.2222222222222222,\"#7201a8\"],[0.3333333333333333,\"#9c179e\"],[0.4444444444444444,\"#bd3786\"],[0.5555555555555556,\"#d8576b\"],[0.6666666666666666,\"#ed7953\"],[0.7777777777777778,\"#fb9f3a\"],[0.8888888888888888,\"#fdca26\"],[1.0,\"#f0f921\"]]}],\"surface\":[{\"type\":\"surface\",\"colorbar\":{\"outlinewidth\":0,\"ticks\":\"\"},\"colorscale\":[[0.0,\"#0d0887\"],[0.1111111111111111,\"#46039f\"],[0.2222222222222222,\"#7201a8\"],[0.3333333333333333,\"#9c179e\"],[0.4444444444444444,\"#bd3786\"],[0.5555555555555556,\"#d8576b\"],[0.6666666666666666,\"#ed7953\"],[0.7777777777777778,\"#fb9f3a\"],[0.8888888888888888,\"#fdca26\"],[1.0,\"#f0f921\"]]}],\"mesh3d\":[{\"type\":\"mesh3d\",\"colorbar\":{\"outlinewidth\":0,\"ticks\":\"\"}}],\"scatter\":[{\"fillpattern\":{\"fillmode\":\"overlay\",\"size\":10,\"solidity\":0.2},\"type\":\"scatter\"}],\"parcoords\":[{\"type\":\"parcoords\",\"line\":{\"colorbar\":{\"outlinewidth\":0,\"ticks\":\"\"}}}],\"scatterpolargl\":[{\"type\":\"scatterpolargl\",\"marker\":{\"colorbar\":{\"outlinewidth\":0,\"ticks\":\"\"}}}],\"bar\":[{\"error_x\":{\"color\":\"#2a3f5f\"},\"error_y\":{\"color\":\"#2a3f5f\"},\"marker\":{\"line\":{\"color\":\"#E5ECF6\",\"width\":0.5},\"pattern\":{\"fillmode\":\"overlay\",\"size\":10,\"solidity\":0.2}},\"type\":\"bar\"}],\"scattergeo\":[{\"type\":\"scattergeo\",\"marker\":{\"colorbar\":{\"outlinewidth\":0,\"ticks\":\"\"}}}],\"scatterpolar\":[{\"type\":\"scatterpolar\",\"marker\":{\"colorbar\":{\"outlinewidth\":0,\"ticks\":\"\"}}}],\"histogram\":[{\"marker\":{\"pattern\":{\"fillmode\":\"overlay\",\"size\":10,\"solidity\":0.2}},\"type\":\"histogram\"}],\"scattergl\":[{\"type\":\"scattergl\",\"marker\":{\"colorbar\":{\"outlinewidth\":0,\"ticks\":\"\"}}}],\"scatter3d\":[{\"type\":\"scatter3d\",\"line\":{\"colorbar\":{\"outlinewidth\":0,\"ticks\":\"\"}},\"marker\":{\"colorbar\":{\"outlinewidth\":0,\"ticks\":\"\"}}}],\"scattermapbox\":[{\"type\":\"scattermapbox\",\"marker\":{\"colorbar\":{\"outlinewidth\":0,\"ticks\":\"\"}}}],\"scatterternary\":[{\"type\":\"scatterternary\",\"marker\":{\"colorbar\":{\"outlinewidth\":0,\"ticks\":\"\"}}}],\"scattercarpet\":[{\"type\":\"scattercarpet\",\"marker\":{\"colorbar\":{\"outlinewidth\":0,\"ticks\":\"\"}}}],\"carpet\":[{\"aaxis\":{\"endlinecolor\":\"#2a3f5f\",\"gridcolor\":\"white\",\"linecolor\":\"white\",\"minorgridcolor\":\"white\",\"startlinecolor\":\"#2a3f5f\"},\"baxis\":{\"endlinecolor\":\"#2a3f5f\",\"gridcolor\":\"white\",\"linecolor\":\"white\",\"minorgridcolor\":\"white\",\"startlinecolor\":\"#2a3f5f\"},\"type\":\"carpet\"}],\"table\":[{\"cells\":{\"fill\":{\"color\":\"#EBF0F8\"},\"line\":{\"color\":\"white\"}},\"header\":{\"fill\":{\"color\":\"#C8D4E3\"},\"line\":{\"color\":\"white\"}},\"type\":\"table\"}],\"barpolar\":[{\"marker\":{\"line\":{\"color\":\"#E5ECF6\",\"width\":0.5},\"pattern\":{\"fillmode\":\"overlay\",\"size\":10,\"solidity\":0.2}},\"type\":\"barpolar\"}],\"pie\":[{\"automargin\":true,\"type\":\"pie\"}]},\"layout\":{\"autotypenumbers\":\"strict\",\"colorway\":[\"#636efa\",\"#EF553B\",\"#00cc96\",\"#ab63fa\",\"#FFA15A\",\"#19d3f3\",\"#FF6692\",\"#B6E880\",\"#FF97FF\",\"#FECB52\"],\"font\":{\"color\":\"#2a3f5f\"},\"hovermode\":\"closest\",\"hoverlabel\":{\"align\":\"left\"},\"paper_bgcolor\":\"white\",\"plot_bgcolor\":\"#E5ECF6\",\"polar\":{\"bgcolor\":\"#E5ECF6\",\"angularaxis\":{\"gridcolor\":\"white\",\"linecolor\":\"white\",\"ticks\":\"\"},\"radialaxis\":{\"gridcolor\":\"white\",\"linecolor\":\"white\",\"ticks\":\"\"}},\"ternary\":{\"bgcolor\":\"#E5ECF6\",\"aaxis\":{\"gridcolor\":\"white\",\"linecolor\":\"white\",\"ticks\":\"\"},\"baxis\":{\"gridcolor\":\"white\",\"linecolor\":\"white\",\"ticks\":\"\"},\"caxis\":{\"gridcolor\":\"white\",\"linecolor\":\"white\",\"ticks\":\"\"}},\"coloraxis\":{\"colorbar\":{\"outlinewidth\":0,\"ticks\":\"\"}},\"colorscale\":{\"sequential\":[[0.0,\"#0d0887\"],[0.1111111111111111,\"#46039f\"],[0.2222222222222222,\"#7201a8\"],[0.3333333333333333,\"#9c179e\"],[0.4444444444444444,\"#bd3786\"],[0.5555555555555556,\"#d8576b\"],[0.6666666666666666,\"#ed7953\"],[0.7777777777777778,\"#fb9f3a\"],[0.8888888888888888,\"#fdca26\"],[1.0,\"#f0f921\"]],\"sequentialminus\":[[0.0,\"#0d0887\"],[0.1111111111111111,\"#46039f\"],[0.2222222222222222,\"#7201a8\"],[0.3333333333333333,\"#9c179e\"],[0.4444444444444444,\"#bd3786\"],[0.5555555555555556,\"#d8576b\"],[0.6666666666666666,\"#ed7953\"],[0.7777777777777778,\"#fb9f3a\"],[0.8888888888888888,\"#fdca26\"],[1.0,\"#f0f921\"]],\"diverging\":[[0,\"#8e0152\"],[0.1,\"#c51b7d\"],[0.2,\"#de77ae\"],[0.3,\"#f1b6da\"],[0.4,\"#fde0ef\"],[0.5,\"#f7f7f7\"],[0.6,\"#e6f5d0\"],[0.7,\"#b8e186\"],[0.8,\"#7fbc41\"],[0.9,\"#4d9221\"],[1,\"#276419\"]]},\"xaxis\":{\"gridcolor\":\"white\",\"linecolor\":\"white\",\"ticks\":\"\",\"title\":{\"standoff\":15},\"zerolinecolor\":\"white\",\"automargin\":true,\"zerolinewidth\":2},\"yaxis\":{\"gridcolor\":\"white\",\"linecolor\":\"white\",\"ticks\":\"\",\"title\":{\"standoff\":15},\"zerolinecolor\":\"white\",\"automargin\":true,\"zerolinewidth\":2},\"scene\":{\"xaxis\":{\"backgroundcolor\":\"#E5ECF6\",\"gridcolor\":\"white\",\"linecolor\":\"white\",\"showbackground\":true,\"ticks\":\"\",\"zerolinecolor\":\"white\",\"gridwidth\":2},\"yaxis\":{\"backgroundcolor\":\"#E5ECF6\",\"gridcolor\":\"white\",\"linecolor\":\"white\",\"showbackground\":true,\"ticks\":\"\",\"zerolinecolor\":\"white\",\"gridwidth\":2},\"zaxis\":{\"backgroundcolor\":\"#E5ECF6\",\"gridcolor\":\"white\",\"linecolor\":\"white\",\"showbackground\":true,\"ticks\":\"\",\"zerolinecolor\":\"white\",\"gridwidth\":2}},\"shapedefaults\":{\"line\":{\"color\":\"#2a3f5f\"}},\"annotationdefaults\":{\"arrowcolor\":\"#2a3f5f\",\"arrowhead\":0,\"arrowwidth\":1},\"geo\":{\"bgcolor\":\"white\",\"landcolor\":\"#E5ECF6\",\"subunitcolor\":\"white\",\"showland\":true,\"showlakes\":true,\"lakecolor\":\"white\"},\"title\":{\"x\":0.05},\"mapbox\":{\"style\":\"light\"}}},\"title\":{\"text\":\"Interactive Pie Chart\"}},                        {\"responsive\": true}                    ).then(function(){\n",
       "                            \n",
       "var gd = document.getElementById('49207f0a-1302-44aa-aabd-baffe982bd20');\n",
       "var x = new MutationObserver(function (mutations, observer) {{\n",
       "        var display = window.getComputedStyle(gd).display;\n",
       "        if (!display || display === 'none') {{\n",
       "            console.log([gd, 'removed!']);\n",
       "            Plotly.purge(gd);\n",
       "            observer.disconnect();\n",
       "        }}\n",
       "}});\n",
       "\n",
       "// Listen for the removal of the full notebook cells\n",
       "var notebookContainer = gd.closest('#notebook-container');\n",
       "if (notebookContainer) {{\n",
       "    x.observe(notebookContainer, {childList: true});\n",
       "}}\n",
       "\n",
       "// Listen for the clearing of the current output cell\n",
       "var outputEl = gd.closest('.output');\n",
       "if (outputEl) {{\n",
       "    x.observe(outputEl, {childList: true});\n",
       "}}\n",
       "\n",
       "                        })                };                });            </script>        </div>"
      ]
     },
     "metadata": {},
     "output_type": "display_data"
    }
   ],
   "source": [
    "\n",
    "# 21. Using Plotly, create an interactive pie chart of randomly generated data, add labels and percentages, set \n",
    "#     the title as 'Interactive Pie Chart'\n",
    "\n",
    "\n",
    "import plotly.graph_objs as go\n",
    "import numpy as np\n",
    "\n",
    "\n",
    "labels = ['Category A', 'Category B', 'Category C', 'Category D', 'Category E']\n",
    "values = np.random.randint(1, 100, size=len(labels))\n",
    "\n",
    "\n",
    "fig = go.Figure()\n",
    "\n",
    "# Adding a pie trace\n",
    "fig.add_trace(go.Pie(labels=labels, values=values, textinfo='label+percent'))\n",
    "\n",
    "fig.update_layout(title='Interactive Pie Chart')\n",
    "fig.show()\n"
   ]
  },
  {
   "cell_type": "code",
   "execution_count": null,
   "id": "e51869ff-0292-483d-a404-efa0e0d3c049",
   "metadata": {},
   "outputs": [],
   "source": [
    "\n",
    "\n"
   ]
  }
 ],
 "metadata": {
  "kernelspec": {
   "display_name": "Python 3 (ipykernel)",
   "language": "python",
   "name": "python3"
  },
  "language_info": {
   "codemirror_mode": {
    "name": "ipython",
    "version": 3
   },
   "file_extension": ".py",
   "mimetype": "text/x-python",
   "name": "python",
   "nbconvert_exporter": "python",
   "pygments_lexer": "ipython3",
   "version": "3.10.8"
  }
 },
 "nbformat": 4,
 "nbformat_minor": 5
}
